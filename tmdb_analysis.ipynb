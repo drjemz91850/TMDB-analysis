{
  "cells": [
    {
      "cell_type": "markdown",
      "id": "66eef811-45e6-41b1-baa3-25f293cf8c0b",
      "metadata": {
        "tags": [],
        "id": "66eef811-45e6-41b1-baa3-25f293cf8c0b"
      },
      "source": [
        "# __Analysis of The Movie Database (TMDB)__\n",
        "\n",
        "## Table of Contents\n",
        "\n",
        " - [Introduction](#introd)\n",
        " \n",
        " - [Data Wrangling](#wrangle)\n",
        "     - [Data Cleaning](#cleaning)\n",
        "     - [Columns Description](#desct)\n",
        " \n",
        " - [Exploratory Data Analysis](#edaa)\n",
        " \n",
        " - [Summary](#summary)\n",
        " -[Limitations](#limit)"
      ]
    },
    {
      "cell_type": "markdown",
      "id": "f63e33be-f68b-4ffe-b0c3-10afa7a789b0",
      "metadata": {
        "id": "f63e33be-f68b-4ffe-b0c3-10afa7a789b0"
      },
      "source": [
        "<a id='introd'> </a>\n",
        "# Introduction \n",
        "The aim of this project is to analyse the TMDB dataset which contains information about the movies, their revenue,budget, genre, release date and many more. This project seeks to generate insights from the dataset.\n",
        "    According to the data source <a href='https://www.kaggle.com/datasets/tmdb/tmdb-movie-metadata'>Kaggle</a>,Major films costing over $100 million dollars can still flop. Meanwhile, some companies like Pixar have found a way to produce highly rated movies. This brings us to the main question of this analysis. _What features are important in determining highly rated,high revenue movies._\n",
        " "
      ]
    },
    {
      "cell_type": "markdown",
      "id": "1c7ab425-1c02-42e6-9c45-46e6322d0e90",
      "metadata": {
        "id": "1c7ab425-1c02-42e6-9c45-46e6322d0e90"
      },
      "source": [
        "<a id='wrangle'></a>\n",
        "## Data Wrangling"
      ]
    },
    {
      "cell_type": "markdown",
      "id": "26d25ca7-8b73-49f5-b61c-c8ff19f0db09",
      "metadata": {
        "id": "26d25ca7-8b73-49f5-b61c-c8ff19f0db09"
      },
      "source": [
        "### Data load"
      ]
    },
    {
      "cell_type": "markdown",
      "id": "bafdbeca",
      "metadata": {
        "id": "bafdbeca"
      },
      "source": [
        "Importing necessary packages"
      ]
    },
    {
      "cell_type": "code",
      "execution_count": null,
      "id": "87a7bb27-3668-47e2-8cfa-774e7ea89ade",
      "metadata": {
        "id": "87a7bb27-3668-47e2-8cfa-774e7ea89ade"
      },
      "outputs": [],
      "source": [
        "# Packages\n",
        "\n",
        "import numpy as np\n",
        "import pandas as pd\n",
        "import matplotlib.pyplot as plt\n",
        "import seaborn as sns\n",
        "sns.set_theme()"
      ]
    },
    {
      "cell_type": "markdown",
      "id": "01053d0b",
      "metadata": {
        "id": "01053d0b"
      },
      "source": [
        "Loading the data into a pandas DataFrame"
      ]
    },
    {
      "cell_type": "code",
      "execution_count": null,
      "id": "bafa234d-4d29-4f1c-94fb-60f8ac4b95b8",
      "metadata": {
        "id": "bafa234d-4d29-4f1c-94fb-60f8ac4b95b8",
        "outputId": "8043abef-c7d2-4d5c-c0e5-2a55e3e856ef"
      },
      "outputs": [
        {
          "data": {
            "text/html": [
              "<div>\n",
              "<style scoped>\n",
              "    .dataframe tbody tr th:only-of-type {\n",
              "        vertical-align: middle;\n",
              "    }\n",
              "\n",
              "    .dataframe tbody tr th {\n",
              "        vertical-align: top;\n",
              "    }\n",
              "\n",
              "    .dataframe thead th {\n",
              "        text-align: right;\n",
              "    }\n",
              "</style>\n",
              "<table border=\"1\" class=\"dataframe\">\n",
              "  <thead>\n",
              "    <tr style=\"text-align: right;\">\n",
              "      <th></th>\n",
              "      <th>id</th>\n",
              "      <th>imdb_id</th>\n",
              "      <th>popularity</th>\n",
              "      <th>budget</th>\n",
              "      <th>revenue</th>\n",
              "      <th>original_title</th>\n",
              "      <th>cast</th>\n",
              "      <th>homepage</th>\n",
              "      <th>director</th>\n",
              "      <th>tagline</th>\n",
              "      <th>...</th>\n",
              "      <th>overview</th>\n",
              "      <th>runtime</th>\n",
              "      <th>genres</th>\n",
              "      <th>production_companies</th>\n",
              "      <th>release_date</th>\n",
              "      <th>vote_count</th>\n",
              "      <th>vote_average</th>\n",
              "      <th>release_year</th>\n",
              "      <th>budget_adj</th>\n",
              "      <th>revenue_adj</th>\n",
              "    </tr>\n",
              "  </thead>\n",
              "  <tbody>\n",
              "    <tr>\n",
              "      <th>0</th>\n",
              "      <td>135397</td>\n",
              "      <td>tt0369610</td>\n",
              "      <td>32.985763</td>\n",
              "      <td>150000000</td>\n",
              "      <td>1513528810</td>\n",
              "      <td>Jurassic World</td>\n",
              "      <td>Chris Pratt|Bryce Dallas Howard|Irrfan Khan|Vi...</td>\n",
              "      <td>http://www.jurassicworld.com/</td>\n",
              "      <td>Colin Trevorrow</td>\n",
              "      <td>The park is open.</td>\n",
              "      <td>...</td>\n",
              "      <td>Twenty-two years after the events of Jurassic ...</td>\n",
              "      <td>124</td>\n",
              "      <td>Action|Adventure|Science Fiction|Thriller</td>\n",
              "      <td>Universal Studios|Amblin Entertainment|Legenda...</td>\n",
              "      <td>6/9/15</td>\n",
              "      <td>5562</td>\n",
              "      <td>6.5</td>\n",
              "      <td>2015</td>\n",
              "      <td>1.379999e+08</td>\n",
              "      <td>1.392446e+09</td>\n",
              "    </tr>\n",
              "    <tr>\n",
              "      <th>1</th>\n",
              "      <td>76341</td>\n",
              "      <td>tt1392190</td>\n",
              "      <td>28.419936</td>\n",
              "      <td>150000000</td>\n",
              "      <td>378436354</td>\n",
              "      <td>Mad Max: Fury Road</td>\n",
              "      <td>Tom Hardy|Charlize Theron|Hugh Keays-Byrne|Nic...</td>\n",
              "      <td>http://www.madmaxmovie.com/</td>\n",
              "      <td>George Miller</td>\n",
              "      <td>What a Lovely Day.</td>\n",
              "      <td>...</td>\n",
              "      <td>An apocalyptic story set in the furthest reach...</td>\n",
              "      <td>120</td>\n",
              "      <td>Action|Adventure|Science Fiction|Thriller</td>\n",
              "      <td>Village Roadshow Pictures|Kennedy Miller Produ...</td>\n",
              "      <td>5/13/15</td>\n",
              "      <td>6185</td>\n",
              "      <td>7.1</td>\n",
              "      <td>2015</td>\n",
              "      <td>1.379999e+08</td>\n",
              "      <td>3.481613e+08</td>\n",
              "    </tr>\n",
              "    <tr>\n",
              "      <th>2</th>\n",
              "      <td>262500</td>\n",
              "      <td>tt2908446</td>\n",
              "      <td>13.112507</td>\n",
              "      <td>110000000</td>\n",
              "      <td>295238201</td>\n",
              "      <td>Insurgent</td>\n",
              "      <td>Shailene Woodley|Theo James|Kate Winslet|Ansel...</td>\n",
              "      <td>http://www.thedivergentseries.movie/#insurgent</td>\n",
              "      <td>Robert Schwentke</td>\n",
              "      <td>One Choice Can Destroy You</td>\n",
              "      <td>...</td>\n",
              "      <td>Beatrice Prior must confront her inner demons ...</td>\n",
              "      <td>119</td>\n",
              "      <td>Adventure|Science Fiction|Thriller</td>\n",
              "      <td>Summit Entertainment|Mandeville Films|Red Wago...</td>\n",
              "      <td>3/18/15</td>\n",
              "      <td>2480</td>\n",
              "      <td>6.3</td>\n",
              "      <td>2015</td>\n",
              "      <td>1.012000e+08</td>\n",
              "      <td>2.716190e+08</td>\n",
              "    </tr>\n",
              "    <tr>\n",
              "      <th>3</th>\n",
              "      <td>140607</td>\n",
              "      <td>tt2488496</td>\n",
              "      <td>11.173104</td>\n",
              "      <td>200000000</td>\n",
              "      <td>2068178225</td>\n",
              "      <td>Star Wars: The Force Awakens</td>\n",
              "      <td>Harrison Ford|Mark Hamill|Carrie Fisher|Adam D...</td>\n",
              "      <td>http://www.starwars.com/films/star-wars-episod...</td>\n",
              "      <td>J.J. Abrams</td>\n",
              "      <td>Every generation has a story.</td>\n",
              "      <td>...</td>\n",
              "      <td>Thirty years after defeating the Galactic Empi...</td>\n",
              "      <td>136</td>\n",
              "      <td>Action|Adventure|Science Fiction|Fantasy</td>\n",
              "      <td>Lucasfilm|Truenorth Productions|Bad Robot</td>\n",
              "      <td>12/15/15</td>\n",
              "      <td>5292</td>\n",
              "      <td>7.5</td>\n",
              "      <td>2015</td>\n",
              "      <td>1.839999e+08</td>\n",
              "      <td>1.902723e+09</td>\n",
              "    </tr>\n",
              "    <tr>\n",
              "      <th>4</th>\n",
              "      <td>168259</td>\n",
              "      <td>tt2820852</td>\n",
              "      <td>9.335014</td>\n",
              "      <td>190000000</td>\n",
              "      <td>1506249360</td>\n",
              "      <td>Furious 7</td>\n",
              "      <td>Vin Diesel|Paul Walker|Jason Statham|Michelle ...</td>\n",
              "      <td>http://www.furious7.com/</td>\n",
              "      <td>James Wan</td>\n",
              "      <td>Vengeance Hits Home</td>\n",
              "      <td>...</td>\n",
              "      <td>Deckard Shaw seeks revenge against Dominic Tor...</td>\n",
              "      <td>137</td>\n",
              "      <td>Action|Crime|Thriller</td>\n",
              "      <td>Universal Pictures|Original Film|Media Rights ...</td>\n",
              "      <td>4/1/15</td>\n",
              "      <td>2947</td>\n",
              "      <td>7.3</td>\n",
              "      <td>2015</td>\n",
              "      <td>1.747999e+08</td>\n",
              "      <td>1.385749e+09</td>\n",
              "    </tr>\n",
              "  </tbody>\n",
              "</table>\n",
              "<p>5 rows × 21 columns</p>\n",
              "</div>"
            ],
            "text/plain": [
              "       id    imdb_id  popularity     budget     revenue  \\\n",
              "0  135397  tt0369610   32.985763  150000000  1513528810   \n",
              "1   76341  tt1392190   28.419936  150000000   378436354   \n",
              "2  262500  tt2908446   13.112507  110000000   295238201   \n",
              "3  140607  tt2488496   11.173104  200000000  2068178225   \n",
              "4  168259  tt2820852    9.335014  190000000  1506249360   \n",
              "\n",
              "                 original_title  \\\n",
              "0                Jurassic World   \n",
              "1            Mad Max: Fury Road   \n",
              "2                     Insurgent   \n",
              "3  Star Wars: The Force Awakens   \n",
              "4                     Furious 7   \n",
              "\n",
              "                                                cast  \\\n",
              "0  Chris Pratt|Bryce Dallas Howard|Irrfan Khan|Vi...   \n",
              "1  Tom Hardy|Charlize Theron|Hugh Keays-Byrne|Nic...   \n",
              "2  Shailene Woodley|Theo James|Kate Winslet|Ansel...   \n",
              "3  Harrison Ford|Mark Hamill|Carrie Fisher|Adam D...   \n",
              "4  Vin Diesel|Paul Walker|Jason Statham|Michelle ...   \n",
              "\n",
              "                                            homepage          director  \\\n",
              "0                      http://www.jurassicworld.com/   Colin Trevorrow   \n",
              "1                        http://www.madmaxmovie.com/     George Miller   \n",
              "2     http://www.thedivergentseries.movie/#insurgent  Robert Schwentke   \n",
              "3  http://www.starwars.com/films/star-wars-episod...       J.J. Abrams   \n",
              "4                           http://www.furious7.com/         James Wan   \n",
              "\n",
              "                         tagline  ...  \\\n",
              "0              The park is open.  ...   \n",
              "1             What a Lovely Day.  ...   \n",
              "2     One Choice Can Destroy You  ...   \n",
              "3  Every generation has a story.  ...   \n",
              "4            Vengeance Hits Home  ...   \n",
              "\n",
              "                                            overview runtime  \\\n",
              "0  Twenty-two years after the events of Jurassic ...     124   \n",
              "1  An apocalyptic story set in the furthest reach...     120   \n",
              "2  Beatrice Prior must confront her inner demons ...     119   \n",
              "3  Thirty years after defeating the Galactic Empi...     136   \n",
              "4  Deckard Shaw seeks revenge against Dominic Tor...     137   \n",
              "\n",
              "                                      genres  \\\n",
              "0  Action|Adventure|Science Fiction|Thriller   \n",
              "1  Action|Adventure|Science Fiction|Thriller   \n",
              "2         Adventure|Science Fiction|Thriller   \n",
              "3   Action|Adventure|Science Fiction|Fantasy   \n",
              "4                      Action|Crime|Thriller   \n",
              "\n",
              "                                production_companies release_date vote_count  \\\n",
              "0  Universal Studios|Amblin Entertainment|Legenda...       6/9/15       5562   \n",
              "1  Village Roadshow Pictures|Kennedy Miller Produ...      5/13/15       6185   \n",
              "2  Summit Entertainment|Mandeville Films|Red Wago...      3/18/15       2480   \n",
              "3          Lucasfilm|Truenorth Productions|Bad Robot     12/15/15       5292   \n",
              "4  Universal Pictures|Original Film|Media Rights ...       4/1/15       2947   \n",
              "\n",
              "   vote_average  release_year    budget_adj   revenue_adj  \n",
              "0           6.5          2015  1.379999e+08  1.392446e+09  \n",
              "1           7.1          2015  1.379999e+08  3.481613e+08  \n",
              "2           6.3          2015  1.012000e+08  2.716190e+08  \n",
              "3           7.5          2015  1.839999e+08  1.902723e+09  \n",
              "4           7.3          2015  1.747999e+08  1.385749e+09  \n",
              "\n",
              "[5 rows x 21 columns]"
            ]
          },
          "execution_count": 2,
          "metadata": {},
          "output_type": "execute_result"
        }
      ],
      "source": [
        "# reading raw data\n",
        "tmdb_raw = pd.read_csv('tmdb-movies.csv')\n",
        "\n",
        "tmdb_raw.head()"
      ]
    },
    {
      "cell_type": "code",
      "execution_count": null,
      "id": "de7a2ee7-3688-4f05-8e62-6d34aa2eb564",
      "metadata": {
        "id": "de7a2ee7-3688-4f05-8e62-6d34aa2eb564"
      },
      "outputs": [],
      "source": [
        "# creating raw data copy\n",
        "tmdb_df = tmdb_raw.copy()"
      ]
    },
    {
      "cell_type": "markdown",
      "id": "56af110b",
      "metadata": {
        "id": "56af110b"
      },
      "source": [
        "Function to print shape of data"
      ]
    },
    {
      "cell_type": "code",
      "execution_count": null,
      "id": "149719f4-9846-485c-8b31-ca2e26c8c74d",
      "metadata": {
        "id": "149719f4-9846-485c-8b31-ca2e26c8c74d"
      },
      "outputs": [],
      "source": [
        "# checking shape of  the data\n",
        "def print_shape(df):\n",
        "    row,col = df.shape\n",
        "    print(f'The data has {row} rows and {col} columns')\n"
      ]
    },
    {
      "cell_type": "code",
      "execution_count": null,
      "id": "e7cac847",
      "metadata": {
        "id": "e7cac847",
        "outputId": "09ee6be0-a976-4501-9911-27df4008dca1"
      },
      "outputs": [
        {
          "name": "stdout",
          "output_type": "stream",
          "text": [
            "The data has 10866 rows and 21 columns\n"
          ]
        }
      ],
      "source": [
        "print_shape(tmdb_df)"
      ]
    },
    {
      "cell_type": "markdown",
      "id": "33725788",
      "metadata": {
        "id": "33725788"
      },
      "source": [
        "Checking DataFrame info/information,like the dtypes, the memory use ,column names..."
      ]
    },
    {
      "cell_type": "code",
      "execution_count": null,
      "id": "7de0cfa0-738b-4eb7-8d5b-ab0e26343b25",
      "metadata": {
        "id": "7de0cfa0-738b-4eb7-8d5b-ab0e26343b25",
        "outputId": "7f939126-72a7-4a86-f467-27b3aa2f987b"
      },
      "outputs": [
        {
          "name": "stdout",
          "output_type": "stream",
          "text": [
            "<class 'pandas.core.frame.DataFrame'>\n",
            "RangeIndex: 10866 entries, 0 to 10865\n",
            "Data columns (total 21 columns):\n",
            " #   Column                Non-Null Count  Dtype  \n",
            "---  ------                --------------  -----  \n",
            " 0   id                    10866 non-null  int64  \n",
            " 1   imdb_id               10856 non-null  object \n",
            " 2   popularity            10866 non-null  float64\n",
            " 3   budget                10866 non-null  int64  \n",
            " 4   revenue               10866 non-null  int64  \n",
            " 5   original_title        10866 non-null  object \n",
            " 6   cast                  10790 non-null  object \n",
            " 7   homepage              2936 non-null   object \n",
            " 8   director              10822 non-null  object \n",
            " 9   tagline               8042 non-null   object \n",
            " 10  keywords              9373 non-null   object \n",
            " 11  overview              10862 non-null  object \n",
            " 12  runtime               10866 non-null  int64  \n",
            " 13  genres                10843 non-null  object \n",
            " 14  production_companies  9836 non-null   object \n",
            " 15  release_date          10866 non-null  object \n",
            " 16  vote_count            10866 non-null  int64  \n",
            " 17  vote_average          10866 non-null  float64\n",
            " 18  release_year          10866 non-null  int64  \n",
            " 19  budget_adj            10866 non-null  float64\n",
            " 20  revenue_adj           10866 non-null  float64\n",
            "dtypes: float64(4), int64(6), object(11)\n",
            "memory usage: 1.7+ MB\n"
          ]
        }
      ],
      "source": [
        "# checking general info\n",
        "tmdb_df.info()"
      ]
    },
    {
      "cell_type": "markdown",
      "id": "9e33c9d5",
      "metadata": {
        "id": "9e33c9d5"
      },
      "source": [
        "The release_date column is not in the right data type. It would be converted to the appropiate dtype which is datetime64[ns]"
      ]
    },
    {
      "cell_type": "code",
      "execution_count": null,
      "id": "5c1d13c7-ca1d-4609-9bf8-87cae9a064f0",
      "metadata": {
        "id": "5c1d13c7-ca1d-4609-9bf8-87cae9a064f0"
      },
      "outputs": [],
      "source": [
        "# convert release_date to the appropiate data type: datetime64[ns]\n",
        "tmdb_df['release_date'] = pd.to_datetime(tmdb_df.release_date)"
      ]
    },
    {
      "cell_type": "markdown",
      "id": "27e31619-e8af-4b54-b43c-7e564982d266",
      "metadata": {
        "jp-MarkdownHeadingCollapsed": true,
        "tags": [],
        "id": "27e31619-e8af-4b54-b43c-7e564982d266"
      },
      "source": [
        "<a id='desct'></a>\n",
        "#### __The data__ \n",
        "The data contains over 10,000 individual movies\n",
        "\n",
        "\n",
        "__Columns Description__<br>\n",
        "This is a description of columns that will be used in this report<br>\n",
        "\n",
        "    * original_title: This contains the title of the movies in each observation(rows)\n",
        "    * budget: This is the total amount spent during the productioin of a movie\n",
        "    * revenue: This is the total amount generated from the movie after producion_NB: This is not the same as profit_\n",
        "    * director: This is the name of the diretor of the movie\n",
        "    * runtime:  This is the duration of a movie in minutes\n",
        "    * genres: This is a list of the genres present in a movie. This column has an object(string) dtype, each genre is seprated by a pipe symbol('|')\n",
        "    * vote_average: This is the average vote rating(1-10)\n",
        "    * release_year: The year the movie was released\n",
        "    * release_date: The date the movie was released. We used this column to get the release month and decade.\n",
        "_NB:The currency used in this dataset(revenue,budget) is dollars_\n"
      ]
    },
    {
      "cell_type": "markdown",
      "id": "4d207f81-63ef-4d45-bceb-7002b7dbf5df",
      "metadata": {
        "id": "4d207f81-63ef-4d45-bceb-7002b7dbf5df"
      },
      "source": [
        "<a id='cleaning'></a>\n",
        "## Data cleaning"
      ]
    },
    {
      "cell_type": "markdown",
      "id": "dd4895b6",
      "metadata": {
        "id": "dd4895b6"
      },
      "source": [
        "Check for missing values in each column in the DataFrame"
      ]
    },
    {
      "cell_type": "code",
      "execution_count": null,
      "id": "0782632c-29f1-4afb-9ed0-29b76537a0b4",
      "metadata": {
        "id": "0782632c-29f1-4afb-9ed0-29b76537a0b4",
        "outputId": "268db950-a87a-4c7d-a441-e7de5ed39000"
      },
      "outputs": [
        {
          "data": {
            "text/plain": [
              "id                         0\n",
              "imdb_id                   10\n",
              "popularity                 0\n",
              "budget                     0\n",
              "revenue                    0\n",
              "original_title             0\n",
              "cast                      76\n",
              "homepage                7930\n",
              "director                  44\n",
              "tagline                 2824\n",
              "keywords                1493\n",
              "overview                   4\n",
              "runtime                    0\n",
              "genres                    23\n",
              "production_companies    1030\n",
              "release_date               0\n",
              "vote_count                 0\n",
              "vote_average               0\n",
              "release_year               0\n",
              "budget_adj                 0\n",
              "revenue_adj                0\n",
              "dtype: int64"
            ]
          },
          "execution_count": 8,
          "metadata": {},
          "output_type": "execute_result"
        }
      ],
      "source": [
        "# checking for missing values\n",
        "tmdb_df.isna().sum()"
      ]
    },
    {
      "cell_type": "markdown",
      "id": "330c4973-f16b-4b28-a5f6-0f337dcfdef7",
      "metadata": {
        "id": "330c4973-f16b-4b28-a5f6-0f337dcfdef7"
      },
      "source": [
        "This dataset contains missing values in about seven(7) columns. This rows that contain missing values will not be dropped, the reason being that the important features(runtime, budget, revenue and title) are not missing. Dropping the rows can significantly affect our dataset too."
      ]
    },
    {
      "cell_type": "markdown",
      "id": "8c76c109",
      "metadata": {
        "id": "8c76c109"
      },
      "source": [
        "- Check the DataFrame for duplicate rows."
      ]
    },
    {
      "cell_type": "code",
      "execution_count": null,
      "id": "03d0c5a5-684a-4bb6-9c74-ad528d3ca4fb",
      "metadata": {
        "id": "03d0c5a5-684a-4bb6-9c74-ad528d3ca4fb",
        "outputId": "080e92cc-1a5a-4fd1-b158-3ff5d728371b"
      },
      "outputs": [
        {
          "data": {
            "text/plain": [
              "1"
            ]
          },
          "execution_count": 9,
          "metadata": {},
          "output_type": "execute_result"
        }
      ],
      "source": [
        "# checking for duplicates\n",
        "dup = tmdb_df.duplicated()\n",
        "dup.sum()"
      ]
    },
    {
      "cell_type": "code",
      "execution_count": null,
      "id": "fd36fe14-f44f-4b0e-81f8-3f430fd98452",
      "metadata": {
        "id": "fd36fe14-f44f-4b0e-81f8-3f430fd98452",
        "outputId": "c73fdcfe-3ef2-499c-8729-63714436a4e4"
      },
      "outputs": [
        {
          "data": {
            "text/html": [
              "<div>\n",
              "<style scoped>\n",
              "    .dataframe tbody tr th:only-of-type {\n",
              "        vertical-align: middle;\n",
              "    }\n",
              "\n",
              "    .dataframe tbody tr th {\n",
              "        vertical-align: top;\n",
              "    }\n",
              "\n",
              "    .dataframe thead th {\n",
              "        text-align: right;\n",
              "    }\n",
              "</style>\n",
              "<table border=\"1\" class=\"dataframe\">\n",
              "  <thead>\n",
              "    <tr style=\"text-align: right;\">\n",
              "      <th></th>\n",
              "      <th>id</th>\n",
              "      <th>imdb_id</th>\n",
              "      <th>popularity</th>\n",
              "      <th>budget</th>\n",
              "      <th>revenue</th>\n",
              "      <th>original_title</th>\n",
              "      <th>cast</th>\n",
              "      <th>homepage</th>\n",
              "      <th>director</th>\n",
              "      <th>tagline</th>\n",
              "      <th>...</th>\n",
              "      <th>overview</th>\n",
              "      <th>runtime</th>\n",
              "      <th>genres</th>\n",
              "      <th>production_companies</th>\n",
              "      <th>release_date</th>\n",
              "      <th>vote_count</th>\n",
              "      <th>vote_average</th>\n",
              "      <th>release_year</th>\n",
              "      <th>budget_adj</th>\n",
              "      <th>revenue_adj</th>\n",
              "    </tr>\n",
              "  </thead>\n",
              "  <tbody>\n",
              "    <tr>\n",
              "      <th>2090</th>\n",
              "      <td>42194</td>\n",
              "      <td>tt0411951</td>\n",
              "      <td>0.59643</td>\n",
              "      <td>30000000</td>\n",
              "      <td>967000</td>\n",
              "      <td>TEKKEN</td>\n",
              "      <td>Jon Foo|Kelly Overton|Cary-Hiroyuki Tagawa|Ian...</td>\n",
              "      <td>NaN</td>\n",
              "      <td>Dwight H. Little</td>\n",
              "      <td>Survival is no game</td>\n",
              "      <td>...</td>\n",
              "      <td>In the year of 2039, after World Wars destroy ...</td>\n",
              "      <td>92</td>\n",
              "      <td>Crime|Drama|Action|Thriller|Science Fiction</td>\n",
              "      <td>Namco|Light Song Films</td>\n",
              "      <td>2010-03-20</td>\n",
              "      <td>110</td>\n",
              "      <td>5.0</td>\n",
              "      <td>2010</td>\n",
              "      <td>30000000.0</td>\n",
              "      <td>967000.0</td>\n",
              "    </tr>\n",
              "  </tbody>\n",
              "</table>\n",
              "<p>1 rows × 21 columns</p>\n",
              "</div>"
            ],
            "text/plain": [
              "         id    imdb_id  popularity    budget  revenue original_title  \\\n",
              "2090  42194  tt0411951     0.59643  30000000   967000         TEKKEN   \n",
              "\n",
              "                                                   cast homepage  \\\n",
              "2090  Jon Foo|Kelly Overton|Cary-Hiroyuki Tagawa|Ian...      NaN   \n",
              "\n",
              "              director              tagline  ...  \\\n",
              "2090  Dwight H. Little  Survival is no game  ...   \n",
              "\n",
              "                                               overview runtime  \\\n",
              "2090  In the year of 2039, after World Wars destroy ...      92   \n",
              "\n",
              "                                           genres    production_companies  \\\n",
              "2090  Crime|Drama|Action|Thriller|Science Fiction  Namco|Light Song Films   \n",
              "\n",
              "     release_date vote_count  vote_average  release_year  budget_adj  \\\n",
              "2090   2010-03-20        110           5.0          2010  30000000.0   \n",
              "\n",
              "      revenue_adj  \n",
              "2090     967000.0  \n",
              "\n",
              "[1 rows x 21 columns]"
            ]
          },
          "execution_count": 10,
          "metadata": {},
          "output_type": "execute_result"
        }
      ],
      "source": [
        "# view duplicate(s)\n",
        "tmdb_df[dup]"
      ]
    },
    {
      "cell_type": "markdown",
      "id": "ffde66b0-b7ed-4cbd-bee3-50c202b919d0",
      "metadata": {
        "id": "ffde66b0-b7ed-4cbd-bee3-50c202b919d0"
      },
      "source": [
        "There is only one duplicate in the dataset. After inspection we can see that the duplicate is a repetition,hence, the row will be dropped"
      ]
    },
    {
      "cell_type": "code",
      "execution_count": null,
      "id": "8a0485e2-0b57-4977-9a8a-94259ca6c938",
      "metadata": {
        "id": "8a0485e2-0b57-4977-9a8a-94259ca6c938"
      },
      "outputs": [],
      "source": [
        "# drop duplicate\n",
        "tmdb_df.drop_duplicates(inplace=True)"
      ]
    },
    {
      "cell_type": "markdown",
      "id": "a80dd444",
      "metadata": {
        "id": "a80dd444"
      },
      "source": [
        "Check if the duplicate was correctly dropped"
      ]
    },
    {
      "cell_type": "code",
      "execution_count": null,
      "id": "4ea0627f-ebfa-49ae-aee8-09f75d667be1",
      "metadata": {
        "id": "4ea0627f-ebfa-49ae-aee8-09f75d667be1",
        "outputId": "d77d4ebc-e132-4c9b-ee3b-9a503be89795"
      },
      "outputs": [
        {
          "data": {
            "text/plain": [
              "0"
            ]
          },
          "execution_count": 12,
          "metadata": {},
          "output_type": "execute_result"
        }
      ],
      "source": [
        "# check that there is no more duplicates\n",
        "tmdb_df.duplicated().sum()"
      ]
    },
    {
      "cell_type": "markdown",
      "id": "f3d4f1bb",
      "metadata": {
        "id": "f3d4f1bb"
      },
      "source": [
        "Check the summary statistics of each columns in the dataframe"
      ]
    },
    {
      "cell_type": "code",
      "execution_count": null,
      "id": "a81ac46a-58e9-418b-8be6-76f530cebdef",
      "metadata": {
        "id": "a81ac46a-58e9-418b-8be6-76f530cebdef",
        "outputId": "ab1cae9f-5539-4918-bec4-f75332a95093"
      },
      "outputs": [
        {
          "data": {
            "text/html": [
              "<div>\n",
              "<style scoped>\n",
              "    .dataframe tbody tr th:only-of-type {\n",
              "        vertical-align: middle;\n",
              "    }\n",
              "\n",
              "    .dataframe tbody tr th {\n",
              "        vertical-align: top;\n",
              "    }\n",
              "\n",
              "    .dataframe thead th {\n",
              "        text-align: right;\n",
              "    }\n",
              "</style>\n",
              "<table border=\"1\" class=\"dataframe\">\n",
              "  <thead>\n",
              "    <tr style=\"text-align: right;\">\n",
              "      <th></th>\n",
              "      <th>id</th>\n",
              "      <th>popularity</th>\n",
              "      <th>budget</th>\n",
              "      <th>revenue</th>\n",
              "      <th>runtime</th>\n",
              "      <th>vote_count</th>\n",
              "      <th>vote_average</th>\n",
              "      <th>release_year</th>\n",
              "      <th>budget_adj</th>\n",
              "      <th>revenue_adj</th>\n",
              "    </tr>\n",
              "  </thead>\n",
              "  <tbody>\n",
              "    <tr>\n",
              "      <th>count</th>\n",
              "      <td>10865.000000</td>\n",
              "      <td>10865.000000</td>\n",
              "      <td>1.086500e+04</td>\n",
              "      <td>1.086500e+04</td>\n",
              "      <td>10865.000000</td>\n",
              "      <td>10865.000000</td>\n",
              "      <td>10865.000000</td>\n",
              "      <td>10865.000000</td>\n",
              "      <td>1.086500e+04</td>\n",
              "      <td>1.086500e+04</td>\n",
              "    </tr>\n",
              "    <tr>\n",
              "      <th>mean</th>\n",
              "      <td>66066.374413</td>\n",
              "      <td>0.646446</td>\n",
              "      <td>1.462429e+07</td>\n",
              "      <td>3.982690e+07</td>\n",
              "      <td>102.071790</td>\n",
              "      <td>217.399632</td>\n",
              "      <td>5.975012</td>\n",
              "      <td>2001.321859</td>\n",
              "      <td>1.754989e+07</td>\n",
              "      <td>5.136900e+07</td>\n",
              "    </tr>\n",
              "    <tr>\n",
              "      <th>std</th>\n",
              "      <td>92134.091971</td>\n",
              "      <td>1.000231</td>\n",
              "      <td>3.091428e+07</td>\n",
              "      <td>1.170083e+08</td>\n",
              "      <td>31.382701</td>\n",
              "      <td>575.644627</td>\n",
              "      <td>0.935138</td>\n",
              "      <td>12.813260</td>\n",
              "      <td>3.430753e+07</td>\n",
              "      <td>1.446383e+08</td>\n",
              "    </tr>\n",
              "    <tr>\n",
              "      <th>min</th>\n",
              "      <td>5.000000</td>\n",
              "      <td>0.000065</td>\n",
              "      <td>0.000000e+00</td>\n",
              "      <td>0.000000e+00</td>\n",
              "      <td>0.000000</td>\n",
              "      <td>10.000000</td>\n",
              "      <td>1.500000</td>\n",
              "      <td>1960.000000</td>\n",
              "      <td>0.000000e+00</td>\n",
              "      <td>0.000000e+00</td>\n",
              "    </tr>\n",
              "    <tr>\n",
              "      <th>25%</th>\n",
              "      <td>10596.000000</td>\n",
              "      <td>0.207575</td>\n",
              "      <td>0.000000e+00</td>\n",
              "      <td>0.000000e+00</td>\n",
              "      <td>90.000000</td>\n",
              "      <td>17.000000</td>\n",
              "      <td>5.400000</td>\n",
              "      <td>1995.000000</td>\n",
              "      <td>0.000000e+00</td>\n",
              "      <td>0.000000e+00</td>\n",
              "    </tr>\n",
              "    <tr>\n",
              "      <th>50%</th>\n",
              "      <td>20662.000000</td>\n",
              "      <td>0.383831</td>\n",
              "      <td>0.000000e+00</td>\n",
              "      <td>0.000000e+00</td>\n",
              "      <td>99.000000</td>\n",
              "      <td>38.000000</td>\n",
              "      <td>6.000000</td>\n",
              "      <td>2006.000000</td>\n",
              "      <td>0.000000e+00</td>\n",
              "      <td>0.000000e+00</td>\n",
              "    </tr>\n",
              "    <tr>\n",
              "      <th>75%</th>\n",
              "      <td>75612.000000</td>\n",
              "      <td>0.713857</td>\n",
              "      <td>1.500000e+07</td>\n",
              "      <td>2.400000e+07</td>\n",
              "      <td>111.000000</td>\n",
              "      <td>146.000000</td>\n",
              "      <td>6.600000</td>\n",
              "      <td>2011.000000</td>\n",
              "      <td>2.085325e+07</td>\n",
              "      <td>3.370173e+07</td>\n",
              "    </tr>\n",
              "    <tr>\n",
              "      <th>max</th>\n",
              "      <td>417859.000000</td>\n",
              "      <td>32.985763</td>\n",
              "      <td>4.250000e+08</td>\n",
              "      <td>2.781506e+09</td>\n",
              "      <td>900.000000</td>\n",
              "      <td>9767.000000</td>\n",
              "      <td>9.200000</td>\n",
              "      <td>2015.000000</td>\n",
              "      <td>4.250000e+08</td>\n",
              "      <td>2.827124e+09</td>\n",
              "    </tr>\n",
              "  </tbody>\n",
              "</table>\n",
              "</div>"
            ],
            "text/plain": [
              "                  id    popularity        budget       revenue       runtime  \\\n",
              "count   10865.000000  10865.000000  1.086500e+04  1.086500e+04  10865.000000   \n",
              "mean    66066.374413      0.646446  1.462429e+07  3.982690e+07    102.071790   \n",
              "std     92134.091971      1.000231  3.091428e+07  1.170083e+08     31.382701   \n",
              "min         5.000000      0.000065  0.000000e+00  0.000000e+00      0.000000   \n",
              "25%     10596.000000      0.207575  0.000000e+00  0.000000e+00     90.000000   \n",
              "50%     20662.000000      0.383831  0.000000e+00  0.000000e+00     99.000000   \n",
              "75%     75612.000000      0.713857  1.500000e+07  2.400000e+07    111.000000   \n",
              "max    417859.000000     32.985763  4.250000e+08  2.781506e+09    900.000000   \n",
              "\n",
              "         vote_count  vote_average  release_year    budget_adj   revenue_adj  \n",
              "count  10865.000000  10865.000000  10865.000000  1.086500e+04  1.086500e+04  \n",
              "mean     217.399632      5.975012   2001.321859  1.754989e+07  5.136900e+07  \n",
              "std      575.644627      0.935138     12.813260  3.430753e+07  1.446383e+08  \n",
              "min       10.000000      1.500000   1960.000000  0.000000e+00  0.000000e+00  \n",
              "25%       17.000000      5.400000   1995.000000  0.000000e+00  0.000000e+00  \n",
              "50%       38.000000      6.000000   2006.000000  0.000000e+00  0.000000e+00  \n",
              "75%      146.000000      6.600000   2011.000000  2.085325e+07  3.370173e+07  \n",
              "max     9767.000000      9.200000   2015.000000  4.250000e+08  2.827124e+09  "
            ]
          },
          "execution_count": 13,
          "metadata": {},
          "output_type": "execute_result"
        }
      ],
      "source": [
        "# check summary statistics of the columns\n",
        "tmdb_df.describe()"
      ]
    },
    {
      "cell_type": "markdown",
      "id": "f63dc8d5-9207-4f6b-9fa1-72903e99b7bb",
      "metadata": {
        "id": "f63dc8d5-9207-4f6b-9fa1-72903e99b7bb"
      },
      "source": [
        "From the tabel above we can observe three problems\n",
        "\n",
        " - The minimum values for budget,revenue and runtime is zero(0).\n",
        " - Any movie that was truly produced cannot have this values as zero.\n",
        " \n",
        "We'll conduct further investigation into this problem"
      ]
    },
    {
      "cell_type": "code",
      "execution_count": null,
      "id": "0fcb9d84-3409-46b2-a09a-6e1078f2efbc",
      "metadata": {
        "id": "0fcb9d84-3409-46b2-a09a-6e1078f2efbc",
        "outputId": "955a1e4d-36f8-40f8-a65f-916481a85832"
      },
      "outputs": [
        {
          "data": {
            "text/html": [
              "<div>\n",
              "<style scoped>\n",
              "    .dataframe tbody tr th:only-of-type {\n",
              "        vertical-align: middle;\n",
              "    }\n",
              "\n",
              "    .dataframe tbody tr th {\n",
              "        vertical-align: top;\n",
              "    }\n",
              "\n",
              "    .dataframe thead th {\n",
              "        text-align: right;\n",
              "    }\n",
              "</style>\n",
              "<table border=\"1\" class=\"dataframe\">\n",
              "  <thead>\n",
              "    <tr style=\"text-align: right;\">\n",
              "      <th></th>\n",
              "      <th>id</th>\n",
              "      <th>imdb_id</th>\n",
              "      <th>popularity</th>\n",
              "      <th>budget</th>\n",
              "      <th>revenue</th>\n",
              "      <th>original_title</th>\n",
              "      <th>cast</th>\n",
              "      <th>homepage</th>\n",
              "      <th>director</th>\n",
              "      <th>tagline</th>\n",
              "      <th>...</th>\n",
              "      <th>overview</th>\n",
              "      <th>runtime</th>\n",
              "      <th>genres</th>\n",
              "      <th>production_companies</th>\n",
              "      <th>release_date</th>\n",
              "      <th>vote_count</th>\n",
              "      <th>vote_average</th>\n",
              "      <th>release_year</th>\n",
              "      <th>budget_adj</th>\n",
              "      <th>revenue_adj</th>\n",
              "    </tr>\n",
              "  </thead>\n",
              "  <tbody>\n",
              "    <tr>\n",
              "      <th>30</th>\n",
              "      <td>280996</td>\n",
              "      <td>tt3168230</td>\n",
              "      <td>3.927333</td>\n",
              "      <td>0</td>\n",
              "      <td>29355203</td>\n",
              "      <td>Mr. Holmes</td>\n",
              "      <td>Ian McKellen|Milo Parker|Laura Linney|Hattie M...</td>\n",
              "      <td>http://www.mrholmesfilm.com/</td>\n",
              "      <td>Bill Condon</td>\n",
              "      <td>The man behind the myth</td>\n",
              "      <td>...</td>\n",
              "      <td>The story is set in 1947, following a long-ret...</td>\n",
              "      <td>103</td>\n",
              "      <td>Mystery|Drama</td>\n",
              "      <td>BBC Films|See-Saw Films|FilmNation Entertainme...</td>\n",
              "      <td>2015-06-19</td>\n",
              "      <td>425</td>\n",
              "      <td>6.4</td>\n",
              "      <td>2015</td>\n",
              "      <td>0.000000e+00</td>\n",
              "      <td>2.700677e+07</td>\n",
              "    </tr>\n",
              "    <tr>\n",
              "      <th>36</th>\n",
              "      <td>339527</td>\n",
              "      <td>tt1291570</td>\n",
              "      <td>3.358321</td>\n",
              "      <td>0</td>\n",
              "      <td>22354572</td>\n",
              "      <td>Solace</td>\n",
              "      <td>Abbie Cornish|Jeffrey Dean Morgan|Colin Farrel...</td>\n",
              "      <td>NaN</td>\n",
              "      <td>Afonso Poyart</td>\n",
              "      <td>A serial killer who can see your future, a psy...</td>\n",
              "      <td>...</td>\n",
              "      <td>A psychic doctor, John Clancy, works with an F...</td>\n",
              "      <td>101</td>\n",
              "      <td>Crime|Drama|Mystery</td>\n",
              "      <td>Eden Rock Media|FilmNation Entertainment|Flynn...</td>\n",
              "      <td>2015-09-03</td>\n",
              "      <td>474</td>\n",
              "      <td>6.2</td>\n",
              "      <td>2015</td>\n",
              "      <td>0.000000e+00</td>\n",
              "      <td>2.056620e+07</td>\n",
              "    </tr>\n",
              "    <tr>\n",
              "      <th>48</th>\n",
              "      <td>265208</td>\n",
              "      <td>tt2231253</td>\n",
              "      <td>2.932340</td>\n",
              "      <td>30000000</td>\n",
              "      <td>0</td>\n",
              "      <td>Wild Card</td>\n",
              "      <td>Jason Statham|Michael Angarano|Milo Ventimigli...</td>\n",
              "      <td>NaN</td>\n",
              "      <td>Simon West</td>\n",
              "      <td>Never bet against a man with a killer hand.</td>\n",
              "      <td>...</td>\n",
              "      <td>When a Las Vegas bodyguard with lethal skills ...</td>\n",
              "      <td>92</td>\n",
              "      <td>Thriller|Crime|Drama</td>\n",
              "      <td>Current Entertainment|Lionsgate|Sierra / Affin...</td>\n",
              "      <td>2015-01-14</td>\n",
              "      <td>481</td>\n",
              "      <td>5.3</td>\n",
              "      <td>2015</td>\n",
              "      <td>2.759999e+07</td>\n",
              "      <td>0.000000e+00</td>\n",
              "    </tr>\n",
              "    <tr>\n",
              "      <th>67</th>\n",
              "      <td>334074</td>\n",
              "      <td>tt3247714</td>\n",
              "      <td>2.331636</td>\n",
              "      <td>20000000</td>\n",
              "      <td>0</td>\n",
              "      <td>Survivor</td>\n",
              "      <td>Pierce Brosnan|Milla Jovovich|Dylan McDermott|...</td>\n",
              "      <td>http://survivormovie.com/</td>\n",
              "      <td>James McTeigue</td>\n",
              "      <td>His Next Target is Now Hunting Him</td>\n",
              "      <td>...</td>\n",
              "      <td>A Foreign Service Officer in London tries to p...</td>\n",
              "      <td>96</td>\n",
              "      <td>Crime|Thriller|Action</td>\n",
              "      <td>Nu Image Films|Winkler Films|Millennium Films|...</td>\n",
              "      <td>2015-05-21</td>\n",
              "      <td>280</td>\n",
              "      <td>5.4</td>\n",
              "      <td>2015</td>\n",
              "      <td>1.839999e+07</td>\n",
              "      <td>0.000000e+00</td>\n",
              "    </tr>\n",
              "    <tr>\n",
              "      <th>72</th>\n",
              "      <td>284289</td>\n",
              "      <td>tt2911668</td>\n",
              "      <td>2.272044</td>\n",
              "      <td>0</td>\n",
              "      <td>45895</td>\n",
              "      <td>Beyond the Reach</td>\n",
              "      <td>Michael Douglas|Jeremy Irvine|Hanna Mangan Law...</td>\n",
              "      <td>NaN</td>\n",
              "      <td>Jean-Baptiste LÃ©onetti</td>\n",
              "      <td>NaN</td>\n",
              "      <td>...</td>\n",
              "      <td>A high-rolling corporate shark and his impover...</td>\n",
              "      <td>95</td>\n",
              "      <td>Thriller</td>\n",
              "      <td>Furthur Films</td>\n",
              "      <td>2015-04-17</td>\n",
              "      <td>81</td>\n",
              "      <td>5.5</td>\n",
              "      <td>2015</td>\n",
              "      <td>0.000000e+00</td>\n",
              "      <td>4.222338e+04</td>\n",
              "    </tr>\n",
              "  </tbody>\n",
              "</table>\n",
              "<p>5 rows × 21 columns</p>\n",
              "</div>"
            ],
            "text/plain": [
              "        id    imdb_id  popularity    budget   revenue    original_title  \\\n",
              "30  280996  tt3168230    3.927333         0  29355203        Mr. Holmes   \n",
              "36  339527  tt1291570    3.358321         0  22354572            Solace   \n",
              "48  265208  tt2231253    2.932340  30000000         0         Wild Card   \n",
              "67  334074  tt3247714    2.331636  20000000         0          Survivor   \n",
              "72  284289  tt2911668    2.272044         0     45895  Beyond the Reach   \n",
              "\n",
              "                                                 cast  \\\n",
              "30  Ian McKellen|Milo Parker|Laura Linney|Hattie M...   \n",
              "36  Abbie Cornish|Jeffrey Dean Morgan|Colin Farrel...   \n",
              "48  Jason Statham|Michael Angarano|Milo Ventimigli...   \n",
              "67  Pierce Brosnan|Milla Jovovich|Dylan McDermott|...   \n",
              "72  Michael Douglas|Jeremy Irvine|Hanna Mangan Law...   \n",
              "\n",
              "                        homepage                 director  \\\n",
              "30  http://www.mrholmesfilm.com/              Bill Condon   \n",
              "36                           NaN            Afonso Poyart   \n",
              "48                           NaN               Simon West   \n",
              "67     http://survivormovie.com/           James McTeigue   \n",
              "72                           NaN  Jean-Baptiste LÃ©onetti   \n",
              "\n",
              "                                              tagline  ...  \\\n",
              "30                            The man behind the myth  ...   \n",
              "36  A serial killer who can see your future, a psy...  ...   \n",
              "48        Never bet against a man with a killer hand.  ...   \n",
              "67                 His Next Target is Now Hunting Him  ...   \n",
              "72                                                NaN  ...   \n",
              "\n",
              "                                             overview runtime  \\\n",
              "30  The story is set in 1947, following a long-ret...     103   \n",
              "36  A psychic doctor, John Clancy, works with an F...     101   \n",
              "48  When a Las Vegas bodyguard with lethal skills ...      92   \n",
              "67  A Foreign Service Officer in London tries to p...      96   \n",
              "72  A high-rolling corporate shark and his impover...      95   \n",
              "\n",
              "                   genres                               production_companies  \\\n",
              "30          Mystery|Drama  BBC Films|See-Saw Films|FilmNation Entertainme...   \n",
              "36    Crime|Drama|Mystery  Eden Rock Media|FilmNation Entertainment|Flynn...   \n",
              "48   Thriller|Crime|Drama  Current Entertainment|Lionsgate|Sierra / Affin...   \n",
              "67  Crime|Thriller|Action  Nu Image Films|Winkler Films|Millennium Films|...   \n",
              "72               Thriller                                      Furthur Films   \n",
              "\n",
              "   release_date vote_count  vote_average  release_year    budget_adj  \\\n",
              "30   2015-06-19        425           6.4          2015  0.000000e+00   \n",
              "36   2015-09-03        474           6.2          2015  0.000000e+00   \n",
              "48   2015-01-14        481           5.3          2015  2.759999e+07   \n",
              "67   2015-05-21        280           5.4          2015  1.839999e+07   \n",
              "72   2015-04-17         81           5.5          2015  0.000000e+00   \n",
              "\n",
              "     revenue_adj  \n",
              "30  2.700677e+07  \n",
              "36  2.056620e+07  \n",
              "48  0.000000e+00  \n",
              "67  0.000000e+00  \n",
              "72  4.222338e+04  \n",
              "\n",
              "[5 rows x 21 columns]"
            ]
          },
          "execution_count": 14,
          "metadata": {},
          "output_type": "execute_result"
        }
      ],
      "source": [
        "# get the subset of the data that has budget/revenue/runtime as zero\n",
        "zero_df = tmdb_df[ (tmdb_df.budget == 0)|(tmdb_df.revenue == 0)|(tmdb_df.runtime == 0) ]\n",
        "zero_df.head()"
      ]
    },
    {
      "cell_type": "code",
      "execution_count": null,
      "id": "20a98c0f-631c-40bd-bfa1-4dc94f6c4cd8",
      "metadata": {
        "id": "20a98c0f-631c-40bd-bfa1-4dc94f6c4cd8",
        "outputId": "967bc662-5fd1-4925-a147-b82989565bfe"
      },
      "outputs": [
        {
          "name": "stdout",
          "output_type": "stream",
          "text": [
            "The data has 7011 rows and 21 columns\n"
          ]
        }
      ],
      "source": [
        "print_shape(zero_df)"
      ]
    },
    {
      "cell_type": "markdown",
      "id": "a6dd41c7-92da-44b2-b6e5-5158b51680de",
      "metadata": {
        "id": "a6dd41c7-92da-44b2-b6e5-5158b51680de"
      },
      "source": [
        "The data was filtered to only rows that have the budget,runtime,revenue columsn as 0. \n",
        "\n",
        "We consulted with the data source and the internet, and found out that the data is not supposed to be zero . All the rows have non zero values but must have been lost during data gathering. \n",
        "\n",
        "The amount of observation having this condition is quite large. There is no way to get this missing values within the scope of this project.\n",
        "\n",
        "The rows with this condition will be dropped.\n"
      ]
    },
    {
      "cell_type": "code",
      "execution_count": null,
      "id": "f2b1b669",
      "metadata": {
        "id": "f2b1b669"
      },
      "outputs": [],
      "source": [
        "tmdb_df.drop(zero_df.index,inplace=True)"
      ]
    },
    {
      "cell_type": "markdown",
      "id": "b153615a",
      "metadata": {
        "id": "b153615a"
      },
      "source": [
        "Check the summary statistic after dropping the bad data."
      ]
    },
    {
      "cell_type": "markdown",
      "id": "e46cfb24",
      "metadata": {
        "id": "e46cfb24"
      },
      "source": [
        "The number of observation has been reduced heavily"
      ]
    },
    {
      "cell_type": "code",
      "execution_count": null,
      "id": "3defd732",
      "metadata": {
        "id": "3defd732",
        "outputId": "399a6808-d14f-4e12-9c1c-257b940244ed"
      },
      "outputs": [
        {
          "name": "stdout",
          "output_type": "stream",
          "text": [
            "The data has 3854 rows and 21 columns\n"
          ]
        }
      ],
      "source": [
        "print_shape(tmdb_df)"
      ]
    },
    {
      "cell_type": "code",
      "execution_count": null,
      "id": "c8786fe4-8a19-4b15-870b-b086ab68fa06",
      "metadata": {
        "id": "c8786fe4-8a19-4b15-870b-b086ab68fa06",
        "outputId": "e88a4a58-98de-45cc-f435-48971f6bbe35"
      },
      "outputs": [
        {
          "data": {
            "text/html": [
              "<div>\n",
              "<style scoped>\n",
              "    .dataframe tbody tr th:only-of-type {\n",
              "        vertical-align: middle;\n",
              "    }\n",
              "\n",
              "    .dataframe tbody tr th {\n",
              "        vertical-align: top;\n",
              "    }\n",
              "\n",
              "    .dataframe thead th {\n",
              "        text-align: right;\n",
              "    }\n",
              "</style>\n",
              "<table border=\"1\" class=\"dataframe\">\n",
              "  <thead>\n",
              "    <tr style=\"text-align: right;\">\n",
              "      <th></th>\n",
              "      <th>id</th>\n",
              "      <th>popularity</th>\n",
              "      <th>budget</th>\n",
              "      <th>revenue</th>\n",
              "      <th>runtime</th>\n",
              "      <th>vote_count</th>\n",
              "      <th>vote_average</th>\n",
              "      <th>release_year</th>\n",
              "      <th>budget_adj</th>\n",
              "      <th>revenue_adj</th>\n",
              "    </tr>\n",
              "  </thead>\n",
              "  <tbody>\n",
              "    <tr>\n",
              "      <th>count</th>\n",
              "      <td>3854.000000</td>\n",
              "      <td>3854.000000</td>\n",
              "      <td>3.854000e+03</td>\n",
              "      <td>3.854000e+03</td>\n",
              "      <td>3854.000000</td>\n",
              "      <td>3854.000000</td>\n",
              "      <td>3854.000000</td>\n",
              "      <td>3854.000000</td>\n",
              "      <td>3.854000e+03</td>\n",
              "      <td>3.854000e+03</td>\n",
              "    </tr>\n",
              "    <tr>\n",
              "      <th>mean</th>\n",
              "      <td>39888.185262</td>\n",
              "      <td>1.191554</td>\n",
              "      <td>3.720370e+07</td>\n",
              "      <td>1.076866e+08</td>\n",
              "      <td>109.220291</td>\n",
              "      <td>527.720291</td>\n",
              "      <td>6.168163</td>\n",
              "      <td>2001.261028</td>\n",
              "      <td>4.423999e+07</td>\n",
              "      <td>1.370647e+08</td>\n",
              "    </tr>\n",
              "    <tr>\n",
              "      <th>std</th>\n",
              "      <td>67222.527399</td>\n",
              "      <td>1.475162</td>\n",
              "      <td>4.220822e+07</td>\n",
              "      <td>1.765393e+08</td>\n",
              "      <td>19.922820</td>\n",
              "      <td>879.956821</td>\n",
              "      <td>0.794920</td>\n",
              "      <td>11.282575</td>\n",
              "      <td>4.480925e+07</td>\n",
              "      <td>2.161114e+08</td>\n",
              "    </tr>\n",
              "    <tr>\n",
              "      <th>min</th>\n",
              "      <td>5.000000</td>\n",
              "      <td>0.001117</td>\n",
              "      <td>1.000000e+00</td>\n",
              "      <td>2.000000e+00</td>\n",
              "      <td>15.000000</td>\n",
              "      <td>10.000000</td>\n",
              "      <td>2.200000</td>\n",
              "      <td>1960.000000</td>\n",
              "      <td>9.693980e-01</td>\n",
              "      <td>2.370705e+00</td>\n",
              "    </tr>\n",
              "    <tr>\n",
              "      <th>25%</th>\n",
              "      <td>6073.500000</td>\n",
              "      <td>0.462367</td>\n",
              "      <td>1.000000e+07</td>\n",
              "      <td>1.360003e+07</td>\n",
              "      <td>95.000000</td>\n",
              "      <td>71.000000</td>\n",
              "      <td>5.700000</td>\n",
              "      <td>1995.000000</td>\n",
              "      <td>1.309053e+07</td>\n",
              "      <td>1.835735e+07</td>\n",
              "    </tr>\n",
              "    <tr>\n",
              "      <th>50%</th>\n",
              "      <td>11321.500000</td>\n",
              "      <td>0.797511</td>\n",
              "      <td>2.400000e+07</td>\n",
              "      <td>4.480000e+07</td>\n",
              "      <td>106.000000</td>\n",
              "      <td>204.000000</td>\n",
              "      <td>6.200000</td>\n",
              "      <td>2004.000000</td>\n",
              "      <td>3.001611e+07</td>\n",
              "      <td>6.173068e+07</td>\n",
              "    </tr>\n",
              "    <tr>\n",
              "      <th>75%</th>\n",
              "      <td>38573.250000</td>\n",
              "      <td>1.368324</td>\n",
              "      <td>5.000000e+07</td>\n",
              "      <td>1.242125e+08</td>\n",
              "      <td>119.000000</td>\n",
              "      <td>580.000000</td>\n",
              "      <td>6.700000</td>\n",
              "      <td>2010.000000</td>\n",
              "      <td>6.061307e+07</td>\n",
              "      <td>1.632577e+08</td>\n",
              "    </tr>\n",
              "    <tr>\n",
              "      <th>max</th>\n",
              "      <td>417859.000000</td>\n",
              "      <td>32.985763</td>\n",
              "      <td>4.250000e+08</td>\n",
              "      <td>2.781506e+09</td>\n",
              "      <td>338.000000</td>\n",
              "      <td>9767.000000</td>\n",
              "      <td>8.400000</td>\n",
              "      <td>2015.000000</td>\n",
              "      <td>4.250000e+08</td>\n",
              "      <td>2.827124e+09</td>\n",
              "    </tr>\n",
              "  </tbody>\n",
              "</table>\n",
              "</div>"
            ],
            "text/plain": [
              "                  id   popularity        budget       revenue      runtime  \\\n",
              "count    3854.000000  3854.000000  3.854000e+03  3.854000e+03  3854.000000   \n",
              "mean    39888.185262     1.191554  3.720370e+07  1.076866e+08   109.220291   \n",
              "std     67222.527399     1.475162  4.220822e+07  1.765393e+08    19.922820   \n",
              "min         5.000000     0.001117  1.000000e+00  2.000000e+00    15.000000   \n",
              "25%      6073.500000     0.462367  1.000000e+07  1.360003e+07    95.000000   \n",
              "50%     11321.500000     0.797511  2.400000e+07  4.480000e+07   106.000000   \n",
              "75%     38573.250000     1.368324  5.000000e+07  1.242125e+08   119.000000   \n",
              "max    417859.000000    32.985763  4.250000e+08  2.781506e+09   338.000000   \n",
              "\n",
              "        vote_count  vote_average  release_year    budget_adj   revenue_adj  \n",
              "count  3854.000000   3854.000000   3854.000000  3.854000e+03  3.854000e+03  \n",
              "mean    527.720291      6.168163   2001.261028  4.423999e+07  1.370647e+08  \n",
              "std     879.956821      0.794920     11.282575  4.480925e+07  2.161114e+08  \n",
              "min      10.000000      2.200000   1960.000000  9.693980e-01  2.370705e+00  \n",
              "25%      71.000000      5.700000   1995.000000  1.309053e+07  1.835735e+07  \n",
              "50%     204.000000      6.200000   2004.000000  3.001611e+07  6.173068e+07  \n",
              "75%     580.000000      6.700000   2010.000000  6.061307e+07  1.632577e+08  \n",
              "max    9767.000000      8.400000   2015.000000  4.250000e+08  2.827124e+09  "
            ]
          },
          "execution_count": 18,
          "metadata": {},
          "output_type": "execute_result"
        }
      ],
      "source": [
        "tmdb_df.describe()"
      ]
    },
    {
      "cell_type": "markdown",
      "id": "ced40273-44d4-463b-9e91-6475dda024c5",
      "metadata": {
        "id": "ced40273-44d4-463b-9e91-6475dda024c5"
      },
      "source": [
        "<a id='edaa'></a>\n",
        "## Exploratory Data Analysis (EDA)"
      ]
    },
    {
      "cell_type": "markdown",
      "id": "7ccab17b-1771-48a5-807d-4e82f74199d3",
      "metadata": {
        "id": "7ccab17b-1771-48a5-807d-4e82f74199d3"
      },
      "source": [
        "<a id='hrev'></a>\n",
        "1. Highest grossing movies(10)"
      ]
    },
    {
      "cell_type": "code",
      "execution_count": null,
      "id": "24494281-ff28-4ec1-ad87-3b58ccc8e4a9",
      "metadata": {
        "id": "24494281-ff28-4ec1-ad87-3b58ccc8e4a9",
        "outputId": "465d20ad-42d2-4ac5-a208-3688e6efe84d"
      },
      "outputs": [
        {
          "data": {
            "text/html": [
              "<div>\n",
              "<style scoped>\n",
              "    .dataframe tbody tr th:only-of-type {\n",
              "        vertical-align: middle;\n",
              "    }\n",
              "\n",
              "    .dataframe tbody tr th {\n",
              "        vertical-align: top;\n",
              "    }\n",
              "\n",
              "    .dataframe thead th {\n",
              "        text-align: right;\n",
              "    }\n",
              "</style>\n",
              "<table border=\"1\" class=\"dataframe\">\n",
              "  <thead>\n",
              "    <tr style=\"text-align: right;\">\n",
              "      <th></th>\n",
              "      <th>original_title</th>\n",
              "      <th>revenue</th>\n",
              "      <th>vote_average</th>\n",
              "    </tr>\n",
              "  </thead>\n",
              "  <tbody>\n",
              "    <tr>\n",
              "      <th>0</th>\n",
              "      <td>Avatar</td>\n",
              "      <td>2781505847</td>\n",
              "      <td>7.1</td>\n",
              "    </tr>\n",
              "    <tr>\n",
              "      <th>1</th>\n",
              "      <td>Star Wars: The Force Awakens</td>\n",
              "      <td>2068178225</td>\n",
              "      <td>7.5</td>\n",
              "    </tr>\n",
              "    <tr>\n",
              "      <th>2</th>\n",
              "      <td>Titanic</td>\n",
              "      <td>1845034188</td>\n",
              "      <td>7.3</td>\n",
              "    </tr>\n",
              "    <tr>\n",
              "      <th>3</th>\n",
              "      <td>The Avengers</td>\n",
              "      <td>1519557910</td>\n",
              "      <td>7.3</td>\n",
              "    </tr>\n",
              "    <tr>\n",
              "      <th>4</th>\n",
              "      <td>Jurassic World</td>\n",
              "      <td>1513528810</td>\n",
              "      <td>6.5</td>\n",
              "    </tr>\n",
              "    <tr>\n",
              "      <th>5</th>\n",
              "      <td>Furious 7</td>\n",
              "      <td>1506249360</td>\n",
              "      <td>7.3</td>\n",
              "    </tr>\n",
              "    <tr>\n",
              "      <th>6</th>\n",
              "      <td>Avengers: Age of Ultron</td>\n",
              "      <td>1405035767</td>\n",
              "      <td>7.4</td>\n",
              "    </tr>\n",
              "    <tr>\n",
              "      <th>7</th>\n",
              "      <td>Harry Potter and the Deathly Hallows: Part 2</td>\n",
              "      <td>1327817822</td>\n",
              "      <td>7.7</td>\n",
              "    </tr>\n",
              "    <tr>\n",
              "      <th>8</th>\n",
              "      <td>Frozen</td>\n",
              "      <td>1274219009</td>\n",
              "      <td>7.5</td>\n",
              "    </tr>\n",
              "    <tr>\n",
              "      <th>9</th>\n",
              "      <td>Iron Man 3</td>\n",
              "      <td>1215439994</td>\n",
              "      <td>6.9</td>\n",
              "    </tr>\n",
              "  </tbody>\n",
              "</table>\n",
              "</div>"
            ],
            "text/plain": [
              "                                 original_title     revenue  vote_average\n",
              "0                                        Avatar  2781505847           7.1\n",
              "1                  Star Wars: The Force Awakens  2068178225           7.5\n",
              "2                                       Titanic  1845034188           7.3\n",
              "3                                  The Avengers  1519557910           7.3\n",
              "4                                Jurassic World  1513528810           6.5\n",
              "5                                     Furious 7  1506249360           7.3\n",
              "6                       Avengers: Age of Ultron  1405035767           7.4\n",
              "7  Harry Potter and the Deathly Hallows: Part 2  1327817822           7.7\n",
              "8                                        Frozen  1274219009           7.5\n",
              "9                                    Iron Man 3  1215439994           6.9"
            ]
          },
          "execution_count": 19,
          "metadata": {},
          "output_type": "execute_result"
        }
      ],
      "source": [
        "tmdb_df.sort_values(by='revenue',ascending=False).loc[:,['original_title','revenue','vote_average']].head(10).reset_index(drop=True)"
      ]
    },
    {
      "cell_type": "markdown",
      "id": "7ec27a47-240e-4a21-a78a-ca4be927d1de",
      "metadata": {
        "id": "7ec27a47-240e-4a21-a78a-ca4be927d1de"
      },
      "source": [
        "<a id='hrated'></a>\n",
        "2. Highest rated movies(10)"
      ]
    },
    {
      "cell_type": "code",
      "execution_count": null,
      "id": "b192b30a-4c36-4b94-83ba-9fc8cdd92048",
      "metadata": {
        "id": "b192b30a-4c36-4b94-83ba-9fc8cdd92048",
        "outputId": "92dd3401-b75e-4a4d-ca8a-4f9ad9eb1a31"
      },
      "outputs": [
        {
          "data": {
            "text/html": [
              "<div>\n",
              "<style scoped>\n",
              "    .dataframe tbody tr th:only-of-type {\n",
              "        vertical-align: middle;\n",
              "    }\n",
              "\n",
              "    .dataframe tbody tr th {\n",
              "        vertical-align: top;\n",
              "    }\n",
              "\n",
              "    .dataframe thead th {\n",
              "        text-align: right;\n",
              "    }\n",
              "</style>\n",
              "<table border=\"1\" class=\"dataframe\">\n",
              "  <thead>\n",
              "    <tr style=\"text-align: right;\">\n",
              "      <th></th>\n",
              "      <th>original_title</th>\n",
              "      <th>revenue</th>\n",
              "      <th>vote_average</th>\n",
              "    </tr>\n",
              "  </thead>\n",
              "  <tbody>\n",
              "    <tr>\n",
              "      <th>0</th>\n",
              "      <td>The Shawshank Redemption</td>\n",
              "      <td>28341469</td>\n",
              "      <td>8.4</td>\n",
              "    </tr>\n",
              "    <tr>\n",
              "      <th>1</th>\n",
              "      <td>Stop Making Sense</td>\n",
              "      <td>4978922</td>\n",
              "      <td>8.4</td>\n",
              "    </tr>\n",
              "    <tr>\n",
              "      <th>2</th>\n",
              "      <td>The Godfather</td>\n",
              "      <td>245066411</td>\n",
              "      <td>8.3</td>\n",
              "    </tr>\n",
              "    <tr>\n",
              "      <th>3</th>\n",
              "      <td>Whiplash</td>\n",
              "      <td>13993093</td>\n",
              "      <td>8.2</td>\n",
              "    </tr>\n",
              "    <tr>\n",
              "      <th>4</th>\n",
              "      <td>Forrest Gump</td>\n",
              "      <td>677945399</td>\n",
              "      <td>8.1</td>\n",
              "    </tr>\n",
              "    <tr>\n",
              "      <th>5</th>\n",
              "      <td>Schindler's List</td>\n",
              "      <td>321265768</td>\n",
              "      <td>8.1</td>\n",
              "    </tr>\n",
              "    <tr>\n",
              "      <th>6</th>\n",
              "      <td>The Dark Knight</td>\n",
              "      <td>1001921825</td>\n",
              "      <td>8.1</td>\n",
              "    </tr>\n",
              "    <tr>\n",
              "      <th>7</th>\n",
              "      <td>Pulp Fiction</td>\n",
              "      <td>213928762</td>\n",
              "      <td>8.1</td>\n",
              "    </tr>\n",
              "    <tr>\n",
              "      <th>8</th>\n",
              "      <td>Fight Club</td>\n",
              "      <td>100853753</td>\n",
              "      <td>8.1</td>\n",
              "    </tr>\n",
              "    <tr>\n",
              "      <th>9</th>\n",
              "      <td>The Godfather: Part II</td>\n",
              "      <td>47542841</td>\n",
              "      <td>8.1</td>\n",
              "    </tr>\n",
              "  </tbody>\n",
              "</table>\n",
              "</div>"
            ],
            "text/plain": [
              "             original_title     revenue  vote_average\n",
              "0  The Shawshank Redemption    28341469           8.4\n",
              "1         Stop Making Sense     4978922           8.4\n",
              "2             The Godfather   245066411           8.3\n",
              "3                  Whiplash    13993093           8.2\n",
              "4              Forrest Gump   677945399           8.1\n",
              "5          Schindler's List   321265768           8.1\n",
              "6           The Dark Knight  1001921825           8.1\n",
              "7              Pulp Fiction   213928762           8.1\n",
              "8                Fight Club   100853753           8.1\n",
              "9    The Godfather: Part II    47542841           8.1"
            ]
          },
          "execution_count": 20,
          "metadata": {},
          "output_type": "execute_result"
        }
      ],
      "source": [
        "tmdb_df.sort_values(by='vote_average',ascending=False).loc[:,['original_title','revenue','vote_average']].head(10).reset_index(drop=True)"
      ]
    },
    {
      "cell_type": "markdown",
      "id": "c71879f1-5cb6-4c59-8e40-d326bc162586",
      "metadata": {
        "id": "c71879f1-5cb6-4c59-8e40-d326bc162586"
      },
      "source": [
        "<a id='hbud'></a>\n",
        "3. The costliest movies(10)"
      ]
    },
    {
      "cell_type": "code",
      "execution_count": null,
      "id": "b82d4cdd-0404-464b-8fe8-f6638684021a",
      "metadata": {
        "id": "b82d4cdd-0404-464b-8fe8-f6638684021a",
        "outputId": "1479716d-6a5c-4b39-da57-2f8b1fae1056"
      },
      "outputs": [
        {
          "data": {
            "text/html": [
              "<div>\n",
              "<style scoped>\n",
              "    .dataframe tbody tr th:only-of-type {\n",
              "        vertical-align: middle;\n",
              "    }\n",
              "\n",
              "    .dataframe tbody tr th {\n",
              "        vertical-align: top;\n",
              "    }\n",
              "\n",
              "    .dataframe thead th {\n",
              "        text-align: right;\n",
              "    }\n",
              "</style>\n",
              "<table border=\"1\" class=\"dataframe\">\n",
              "  <thead>\n",
              "    <tr style=\"text-align: right;\">\n",
              "      <th></th>\n",
              "      <th>original_title</th>\n",
              "      <th>budget</th>\n",
              "      <th>vote_average</th>\n",
              "    </tr>\n",
              "  </thead>\n",
              "  <tbody>\n",
              "    <tr>\n",
              "      <th>0</th>\n",
              "      <td>The Warrior's Way</td>\n",
              "      <td>425000000</td>\n",
              "      <td>6.4</td>\n",
              "    </tr>\n",
              "    <tr>\n",
              "      <th>1</th>\n",
              "      <td>Pirates of the Caribbean: On Stranger Tides</td>\n",
              "      <td>380000000</td>\n",
              "      <td>6.3</td>\n",
              "    </tr>\n",
              "    <tr>\n",
              "      <th>2</th>\n",
              "      <td>Pirates of the Caribbean: At World's End</td>\n",
              "      <td>300000000</td>\n",
              "      <td>6.8</td>\n",
              "    </tr>\n",
              "    <tr>\n",
              "      <th>3</th>\n",
              "      <td>Avengers: Age of Ultron</td>\n",
              "      <td>280000000</td>\n",
              "      <td>7.4</td>\n",
              "    </tr>\n",
              "    <tr>\n",
              "      <th>4</th>\n",
              "      <td>Superman Returns</td>\n",
              "      <td>270000000</td>\n",
              "      <td>5.3</td>\n",
              "    </tr>\n",
              "    <tr>\n",
              "      <th>5</th>\n",
              "      <td>Tangled</td>\n",
              "      <td>260000000</td>\n",
              "      <td>7.3</td>\n",
              "    </tr>\n",
              "    <tr>\n",
              "      <th>6</th>\n",
              "      <td>John Carter</td>\n",
              "      <td>260000000</td>\n",
              "      <td>6.0</td>\n",
              "    </tr>\n",
              "    <tr>\n",
              "      <th>7</th>\n",
              "      <td>Spider-Man 3</td>\n",
              "      <td>258000000</td>\n",
              "      <td>5.8</td>\n",
              "    </tr>\n",
              "    <tr>\n",
              "      <th>8</th>\n",
              "      <td>The Lone Ranger</td>\n",
              "      <td>255000000</td>\n",
              "      <td>6.0</td>\n",
              "    </tr>\n",
              "    <tr>\n",
              "      <th>9</th>\n",
              "      <td>Harry Potter and the Half-Blood Prince</td>\n",
              "      <td>250000000</td>\n",
              "      <td>7.3</td>\n",
              "    </tr>\n",
              "  </tbody>\n",
              "</table>\n",
              "</div>"
            ],
            "text/plain": [
              "                                original_title     budget  vote_average\n",
              "0                            The Warrior's Way  425000000           6.4\n",
              "1  Pirates of the Caribbean: On Stranger Tides  380000000           6.3\n",
              "2     Pirates of the Caribbean: At World's End  300000000           6.8\n",
              "3                      Avengers: Age of Ultron  280000000           7.4\n",
              "4                             Superman Returns  270000000           5.3\n",
              "5                                      Tangled  260000000           7.3\n",
              "6                                  John Carter  260000000           6.0\n",
              "7                                 Spider-Man 3  258000000           5.8\n",
              "8                              The Lone Ranger  255000000           6.0\n",
              "9       Harry Potter and the Half-Blood Prince  250000000           7.3"
            ]
          },
          "execution_count": 21,
          "metadata": {},
          "output_type": "execute_result"
        }
      ],
      "source": [
        "tmdb_df.sort_values(by='budget',ascending=False).loc[:,['original_title','budget','vote_average']].head(10).reset_index(drop=True)"
      ]
    },
    {
      "cell_type": "markdown",
      "id": "83428c87-7635-4c51-a2c5-e740f30b1c7d",
      "metadata": {
        "id": "83428c87-7635-4c51-a2c5-e740f30b1c7d"
      },
      "source": [
        "From the tables above, we can observe the higest revenue,budget and rated movies. It is interesting to see that none of the costly movies \n",
        "were in the top grossing movies"
      ]
    },
    {
      "cell_type": "markdown",
      "id": "a278d9e6-16f9-4071-b67d-9b0a3836a477",
      "metadata": {
        "tags": [],
        "id": "a278d9e6-16f9-4071-b67d-9b0a3836a477"
      },
      "source": [
        "4. Movie releases over the years"
      ]
    },
    {
      "cell_type": "code",
      "execution_count": null,
      "id": "28ef0921-9b4a-403b-899d-919e5e374464",
      "metadata": {
        "id": "28ef0921-9b4a-403b-899d-919e5e374464",
        "outputId": "fe08f885-914e-4a6b-d2d8-36daac09a65a"
      },
      "outputs": [
        {
          "data": {
            "text/html": [
              "<div>\n",
              "<style scoped>\n",
              "    .dataframe tbody tr th:only-of-type {\n",
              "        vertical-align: middle;\n",
              "    }\n",
              "\n",
              "    .dataframe tbody tr th {\n",
              "        vertical-align: top;\n",
              "    }\n",
              "\n",
              "    .dataframe thead th {\n",
              "        text-align: right;\n",
              "    }\n",
              "</style>\n",
              "<table border=\"1\" class=\"dataframe\">\n",
              "  <thead>\n",
              "    <tr style=\"text-align: right;\">\n",
              "      <th></th>\n",
              "      <th>count</th>\n",
              "    </tr>\n",
              "    <tr>\n",
              "      <th>release_year</th>\n",
              "      <th></th>\n",
              "    </tr>\n",
              "  </thead>\n",
              "  <tbody>\n",
              "    <tr>\n",
              "      <th>1960</th>\n",
              "      <td>5</td>\n",
              "    </tr>\n",
              "    <tr>\n",
              "      <th>1961</th>\n",
              "      <td>10</td>\n",
              "    </tr>\n",
              "    <tr>\n",
              "      <th>1962</th>\n",
              "      <td>7</td>\n",
              "    </tr>\n",
              "    <tr>\n",
              "      <th>1963</th>\n",
              "      <td>6</td>\n",
              "    </tr>\n",
              "    <tr>\n",
              "      <th>1964</th>\n",
              "      <td>7</td>\n",
              "    </tr>\n",
              "  </tbody>\n",
              "</table>\n",
              "</div>"
            ],
            "text/plain": [
              "              count\n",
              "release_year       \n",
              "1960              5\n",
              "1961             10\n",
              "1962              7\n",
              "1963              6\n",
              "1964              7"
            ]
          },
          "execution_count": 22,
          "metadata": {},
          "output_type": "execute_result"
        },
        {
          "data": {
            "image/png": "[encoded data removed]",
            "text/plain": [
              "<Figure size 432x288 with 1 Axes>"
            ]
          },
          "metadata": {},
          "output_type": "display_data"
        }
      ],
      "source": [
        "movie_count = tmdb_df.groupby('release_year').size()\n",
        "movie_count.plot()\n",
        "plt.title('Number of movie released per year(1960-2015)')\n",
        "plt.xlabel('Year')\n",
        "plt.ylabel('Movie count')\n",
        "pd.DataFrame(movie_count,columns=['count']).head()"
      ]
    },
    {
      "cell_type": "markdown",
      "id": "5969cbb2-1f92-4f82-97a9-33e5f51ad6c6",
      "metadata": {
        "id": "5969cbb2-1f92-4f82-97a9-33e5f51ad6c6"
      },
      "source": [
        "Movie production has been on a steady rise in since the  1960s .\n",
        "\n",
        "We can observe a sharp increase from the late 90s till 2010s where it peaks before declining slightly"
      ]
    },
    {
      "cell_type": "code",
      "execution_count": null,
      "id": "6bdf5752-1f81-48e9-8180-1c5edcc08dbe",
      "metadata": {
        "id": "6bdf5752-1f81-48e9-8180-1c5edcc08dbe",
        "outputId": "7ea3c2cd-6df6-45d4-e778-a38c4eab3267"
      },
      "outputs": [
        {
          "data": {
            "text/html": [
              "<div>\n",
              "<style scoped>\n",
              "    .dataframe tbody tr th:only-of-type {\n",
              "        vertical-align: middle;\n",
              "    }\n",
              "\n",
              "    .dataframe tbody tr th {\n",
              "        vertical-align: top;\n",
              "    }\n",
              "\n",
              "    .dataframe thead th {\n",
              "        text-align: right;\n",
              "    }\n",
              "</style>\n",
              "<table border=\"1\" class=\"dataframe\">\n",
              "  <thead>\n",
              "    <tr style=\"text-align: right;\">\n",
              "      <th></th>\n",
              "      <th>revenue</th>\n",
              "    </tr>\n",
              "    <tr>\n",
              "      <th>release_year</th>\n",
              "      <th></th>\n",
              "    </tr>\n",
              "  </thead>\n",
              "  <tbody>\n",
              "    <tr>\n",
              "      <th>1960</th>\n",
              "      <td>25000000.0</td>\n",
              "    </tr>\n",
              "    <tr>\n",
              "      <th>1961</th>\n",
              "      <td>9750000.0</td>\n",
              "    </tr>\n",
              "    <tr>\n",
              "      <th>1962</th>\n",
              "      <td>13129846.0</td>\n",
              "    </tr>\n",
              "    <tr>\n",
              "      <th>1963</th>\n",
              "      <td>12439058.5</td>\n",
              "    </tr>\n",
              "    <tr>\n",
              "      <th>1964</th>\n",
              "      <td>12000000.0</td>\n",
              "    </tr>\n",
              "  </tbody>\n",
              "</table>\n",
              "</div>"
            ],
            "text/plain": [
              "                 revenue\n",
              "release_year            \n",
              "1960          25000000.0\n",
              "1961           9750000.0\n",
              "1962          13129846.0\n",
              "1963          12439058.5\n",
              "1964          12000000.0"
            ]
          },
          "execution_count": 23,
          "metadata": {},
          "output_type": "execute_result"
        },
        {
          "data": {
            "image/png": "[encoded data removed]",
            "text/plain": [
              "<Figure size 432x288 with 1 Axes>"
            ]
          },
          "metadata": {},
          "output_type": "display_data"
        }
      ],
      "source": [
        "# observable changes in revenue and budget \n",
        "revenues = tmdb_df.groupby('release_year').revenue.median()\n",
        "revenues.plot()\n",
        "plt.title('                      Average revenue changes over the years (1960-2015)')\n",
        "plt.xlabel('Year')\n",
        "plt.ylabel('Avg revenue')\n",
        "pd.DataFrame(revenues).head()"
      ]
    },
    {
      "cell_type": "markdown",
      "id": "42960a84",
      "metadata": {
        "id": "42960a84"
      },
      "source": [
        "The average revenue generated has been up and down movements. An observation is that the years after year 2000 have their average revenue greater than the previous years.\n",
        "\n",
        "Worth noticing is the spike in revenue generated in the mid 60s ."
      ]
    },
    {
      "cell_type": "code",
      "execution_count": null,
      "id": "bb285541-e5a2-4fb2-ac9a-cc164449a9f0",
      "metadata": {
        "id": "bb285541-e5a2-4fb2-ac9a-cc164449a9f0",
        "outputId": "0a73cc89-8cd3-4b72-d6c5-b9f129254ecb"
      },
      "outputs": [
        {
          "data": {
            "text/html": [
              "<div>\n",
              "<style scoped>\n",
              "    .dataframe tbody tr th:only-of-type {\n",
              "        vertical-align: middle;\n",
              "    }\n",
              "\n",
              "    .dataframe tbody tr th {\n",
              "        vertical-align: top;\n",
              "    }\n",
              "\n",
              "    .dataframe thead th {\n",
              "        text-align: right;\n",
              "    }\n",
              "</style>\n",
              "<table border=\"1\" class=\"dataframe\">\n",
              "  <thead>\n",
              "    <tr style=\"text-align: right;\">\n",
              "      <th></th>\n",
              "      <th>budget</th>\n",
              "    </tr>\n",
              "    <tr>\n",
              "      <th>release_year</th>\n",
              "      <th></th>\n",
              "    </tr>\n",
              "  </thead>\n",
              "  <tbody>\n",
              "    <tr>\n",
              "      <th>1960</th>\n",
              "      <td>3000000.0</td>\n",
              "    </tr>\n",
              "    <tr>\n",
              "      <th>1961</th>\n",
              "      <td>3500000.0</td>\n",
              "    </tr>\n",
              "    <tr>\n",
              "      <th>1962</th>\n",
              "      <td>2650000.0</td>\n",
              "    </tr>\n",
              "    <tr>\n",
              "      <th>1963</th>\n",
              "      <td>4000000.0</td>\n",
              "    </tr>\n",
              "    <tr>\n",
              "      <th>1964</th>\n",
              "      <td>3000000.0</td>\n",
              "    </tr>\n",
              "  </tbody>\n",
              "</table>\n",
              "</div>"
            ],
            "text/plain": [
              "                 budget\n",
              "release_year           \n",
              "1960          3000000.0\n",
              "1961          3500000.0\n",
              "1962          2650000.0\n",
              "1963          4000000.0\n",
              "1964          3000000.0"
            ]
          },
          "execution_count": 24,
          "metadata": {},
          "output_type": "execute_result"
        },
        {
          "data": {
            "image/png": "[encoded data removed]",
            "text/plain": [
              "<Figure size 432x288 with 1 Axes>"
            ]
          },
          "metadata": {},
          "output_type": "display_data"
        }
      ],
      "source": [
        "budgets = tmdb_df.groupby('release_year').budget.median()\n",
        "budgets.plot()\n",
        "plt.title('               Average budget changes over the years (1960-2015)')\n",
        "plt.xlabel('Year')\n",
        "plt.ylabel('Avg budget')\n",
        "pd.DataFrame(budgets).head()"
      ]
    },
    {
      "cell_type": "markdown",
      "id": "d6a3bed5",
      "metadata": {
        "id": "d6a3bed5"
      },
      "source": [
        "The average cost/budget of a movie has been increacing relative to the previous years. However, year 2000 saw the peak of the  average cost/budget, and it has been on the decline since then."
      ]
    },
    {
      "cell_type": "markdown",
      "id": "84ebf234-b5dc-4007-88d3-fd3572f2d204",
      "metadata": {
        "id": "84ebf234-b5dc-4007-88d3-fd3572f2d204"
      },
      "source": [
        "5. How does amount movie released vary from month to month?"
      ]
    },
    {
      "cell_type": "code",
      "execution_count": null,
      "id": "c5539246-0d62-4ceb-be8e-72380fe0bb8f",
      "metadata": {
        "id": "c5539246-0d62-4ceb-be8e-72380fe0bb8f"
      },
      "outputs": [],
      "source": [
        "# create decade columns\n",
        "tmdb_df['decade'] = (tmdb_df.release_year//10)*10"
      ]
    },
    {
      "cell_type": "code",
      "execution_count": null,
      "id": "d749dd3c-cc17-4254-85b5-e157019647ba",
      "metadata": {
        "id": "d749dd3c-cc17-4254-85b5-e157019647ba"
      },
      "outputs": [],
      "source": [
        "# create month column\n",
        "months = ['January','February','March','April','May','June','July','August','September','October','November','December']\n",
        "tmdb_df['month'] = tmdb_df.release_date.dt.month_name()\n",
        "# groupby decade and release year\n",
        "monthly_releases = tmdb_df.groupby(['decade','month']).size().unstack().fillna(0)\n",
        "# swap index(decade) for columns(month) and vice versa\n",
        "monthly_releases= monthly_releases[months].transpose()"
      ]
    },
    {
      "cell_type": "code",
      "execution_count": null,
      "id": "e0715b23-7f6c-4d8e-92fa-98308e6ed35d",
      "metadata": {
        "id": "e0715b23-7f6c-4d8e-92fa-98308e6ed35d",
        "outputId": "7e941a14-6260-4c4d-9837-5c2800eb87bd"
      },
      "outputs": [
        {
          "data": {
            "text/plain": [
              "Text(0.5, 1.0, 'Count of movies released per month every year')"
            ]
          },
          "execution_count": 27,
          "metadata": {},
          "output_type": "execute_result"
        },
        {
          "data": {
            "image/png": "[encoded data removed]",
            "text/plain": [
              "<Figure size 720x720 with 2 Axes>"
            ]
          },
          "metadata": {},
          "output_type": "display_data"
        }
      ],
      "source": [
        "plt.figure(figsize=(10,10))\n",
        "sns.heatmap(monthly_releases,linewidths=0.5,cmap='YlGnBu')\n",
        "plt.xticks(rotation=90)\n",
        "plt.ylabel('Month')\n",
        "plt.xlabel('Year')\n",
        "plt.title('Count of movies released per month every year')"
      ]
    },
    {
      "cell_type": "markdown",
      "id": "f8a57e4c-db7a-4b89-aba9-9695f182dfdd",
      "metadata": {
        "id": "f8a57e4c-db7a-4b89-aba9-9695f182dfdd"
      },
      "source": [
        "We can see from the heat map that movies are mostly released later in the year ( August-December) with the highest amount of releases coming in September."
      ]
    },
    {
      "cell_type": "code",
      "execution_count": null,
      "id": "abeb29a1-8acd-4ab2-b480-ce0e5f57f4d6",
      "metadata": {
        "id": "abeb29a1-8acd-4ab2-b480-ce0e5f57f4d6"
      },
      "outputs": [],
      "source": [
        "def subplots(x,y:list,dim:tuple,data):\n",
        "    \"\"\" This function plots subplots of kind 'scatter' from the list of features passed into the argument y against feature x\n",
        "        x = pd.Series\n",
        "        y= [pd.Series,...]\n",
        "        dim = dimension (rows,columns)\n",
        "        data = pd.DataFrame \n",
        "        \"\"\"\n",
        "    sns.set()\n",
        "    row,col = dim\n",
        "    fig, axes = plt.subplots(row,col,figsize=(18,16))\n",
        "    nrow = 0\n",
        "    ncol = 0\n",
        "    if row*col < len(y):\n",
        "        raise ValueError\n",
        "    for feature in y:\n",
        "            if row == 1 or col == 1:\n",
        "                sns.scatterplot(x=x,y=feature,data=data,ax=axes[nrow+ncol-1])\n",
        "            else:\n",
        "                sns.scatterplot(x=x,y=feature,data=data,ax=axes[nrow,ncol])\n",
        "            ncol +=1\n",
        "            if ncol == col:\n",
        "                nrow+=1\n",
        "                ncol = 0\n",
        "    plt.show()        \n",
        "            "
      ]
    },
    {
      "cell_type": "code",
      "execution_count": null,
      "id": "471faeac-6c07-4ce2-be3b-46096489b7c6",
      "metadata": {
        "id": "471faeac-6c07-4ce2-be3b-46096489b7c6"
      },
      "outputs": [],
      "source": [
        "def plot_dist(df,column):\n",
        "    \"\"\" This function plots the histogram of the features passed in the column arguments\n",
        "    df = pd.DataFrame\n",
        "    column = column name \"\"\"\n",
        "    plt.hist(df[column],bins=20,histtype='stepfilled',density=True)\n",
        "    sns.kdeplot(data=df, x=column)\n",
        "    plt.xlabel(column)\n",
        "    plt.ylabel('Count')\n",
        "    plt.axvline(df[column].median(), color='k', linestyle='dashed', linewidth=1)\n",
        "\n",
        "    min_ylim, max_ylim = plt.ylim()\n",
        "    plt.text(df[column].median()*1.1, max_ylim*0.9, 'Median: {:.2f}'.format(df[column].median()))\n"
      ]
    },
    {
      "cell_type": "markdown",
      "id": "7b3865a5-a0d0-44df-9518-78d429cdf723",
      "metadata": {
        "id": "7b3865a5-a0d0-44df-9518-78d429cdf723"
      },
      "source": [
        "6. Distribution of some quantitative variables in the dataset"
      ]
    },
    {
      "cell_type": "code",
      "execution_count": null,
      "id": "3706d81d-de82-4dba-bfc2-1ce94194e82f",
      "metadata": {
        "id": "3706d81d-de82-4dba-bfc2-1ce94194e82f",
        "outputId": "8a98628d-94de-44e0-ec32-1b142637bd25"
      },
      "outputs": [
        {
          "data": {
            "image/png": "[encoded data removed]",
            "text/plain": [
              "<Figure size 432x288 with 1 Axes>"
            ]
          },
          "metadata": {},
          "output_type": "display_data"
        },
        {
          "data": {
            "image/png": "[encoded data removed]",
            "text/plain": [
              "<Figure size 432x288 with 1 Axes>"
            ]
          },
          "metadata": {},
          "output_type": "display_data"
        },
        {
          "data": {
            "image/png": "[encoded data removed]",
            "text/plain": [
              "<Figure size 432x288 with 1 Axes>"
            ]
          },
          "metadata": {},
          "output_type": "display_data"
        },
        {
          "data": {
            "image/png": "[encoded data removed]",
            "text/plain": [
              "<Figure size 432x288 with 1 Axes>"
            ]
          },
          "metadata": {},
          "output_type": "display_data"
        },
        {
          "data": {
            "image/png": "[encoded data removed]",
            "text/plain": [
              "<Figure size 432x288 with 1 Axes>"
            ]
          },
          "metadata": {},
          "output_type": "display_data"
        }
      ],
      "source": [
        "columns = ['revenue','budget','runtime','popularity','vote_average']\n",
        "for col in columns:\n",
        "    plt.figure()\n",
        "    plot_dist(tmdb_df,col)"
      ]
    },
    {
      "cell_type": "markdown",
      "id": "fa026b6b",
      "metadata": {
        "id": "fa026b6b"
      },
      "source": [
        "Only the graph of runtime and vote_average seem to be normally distributed. The budget,popularity and revenue are skewed to the right"
      ]
    },
    {
      "cell_type": "markdown",
      "id": "eb0319fa-bc1f-4cb3-9ee9-c44af1ec3f58",
      "metadata": {
        "id": "eb0319fa-bc1f-4cb3-9ee9-c44af1ec3f58"
      },
      "source": [
        "7. What features show relationsip with the rating of a movie?"
      ]
    },
    {
      "cell_type": "markdown",
      "id": "4e214ced",
      "metadata": {
        "id": "4e214ced"
      },
      "source": [
        "Table of correlation among the variables in the DataFrame"
      ]
    },
    {
      "cell_type": "code",
      "execution_count": null,
      "id": "ea971db7",
      "metadata": {
        "id": "ea971db7",
        "outputId": "8b754eb0-68cc-44fd-88a7-6b6b2aaac6eb"
      },
      "outputs": [
        {
          "data": {
            "text/html": [
              "<div>\n",
              "<style scoped>\n",
              "    .dataframe tbody tr th:only-of-type {\n",
              "        vertical-align: middle;\n",
              "    }\n",
              "\n",
              "    .dataframe tbody tr th {\n",
              "        vertical-align: top;\n",
              "    }\n",
              "\n",
              "    .dataframe thead th {\n",
              "        text-align: right;\n",
              "    }\n",
              "</style>\n",
              "<table border=\"1\" class=\"dataframe\">\n",
              "  <thead>\n",
              "    <tr style=\"text-align: right;\">\n",
              "      <th></th>\n",
              "      <th>id</th>\n",
              "      <th>popularity</th>\n",
              "      <th>budget</th>\n",
              "      <th>revenue</th>\n",
              "      <th>runtime</th>\n",
              "      <th>vote_count</th>\n",
              "      <th>vote_average</th>\n",
              "      <th>release_year</th>\n",
              "      <th>budget_adj</th>\n",
              "      <th>revenue_adj</th>\n",
              "      <th>decade</th>\n",
              "    </tr>\n",
              "  </thead>\n",
              "  <tbody>\n",
              "    <tr>\n",
              "      <th>id</th>\n",
              "      <td>1.000000</td>\n",
              "      <td>0.188878</td>\n",
              "      <td>-0.027449</td>\n",
              "      <td>-0.003206</td>\n",
              "      <td>-0.035688</td>\n",
              "      <td>0.111470</td>\n",
              "      <td>-0.001269</td>\n",
              "      <td>0.489926</td>\n",
              "      <td>-0.124035</td>\n",
              "      <td>-0.088287</td>\n",
              "      <td>0.496023</td>\n",
              "    </tr>\n",
              "    <tr>\n",
              "      <th>popularity</th>\n",
              "      <td>0.188878</td>\n",
              "      <td>1.000000</td>\n",
              "      <td>0.446987</td>\n",
              "      <td>0.615535</td>\n",
              "      <td>0.215092</td>\n",
              "      <td>0.780096</td>\n",
              "      <td>0.317866</td>\n",
              "      <td>0.173278</td>\n",
              "      <td>0.399356</td>\n",
              "      <td>0.546959</td>\n",
              "      <td>0.170058</td>\n",
              "    </tr>\n",
              "    <tr>\n",
              "      <th>budget</th>\n",
              "      <td>-0.027449</td>\n",
              "      <td>0.446987</td>\n",
              "      <td>1.000000</td>\n",
              "      <td>0.688556</td>\n",
              "      <td>0.260977</td>\n",
              "      <td>0.556937</td>\n",
              "      <td>0.024169</td>\n",
              "      <td>0.268040</td>\n",
              "      <td>0.958520</td>\n",
              "      <td>0.533498</td>\n",
              "      <td>0.261889</td>\n",
              "    </tr>\n",
              "    <tr>\n",
              "      <th>revenue</th>\n",
              "      <td>-0.003206</td>\n",
              "      <td>0.615535</td>\n",
              "      <td>0.688556</td>\n",
              "      <td>1.000000</td>\n",
              "      <td>0.250298</td>\n",
              "      <td>0.754567</td>\n",
              "      <td>0.227123</td>\n",
              "      <td>0.139140</td>\n",
              "      <td>0.657567</td>\n",
              "      <td>0.900882</td>\n",
              "      <td>0.137820</td>\n",
              "    </tr>\n",
              "    <tr>\n",
              "      <th>runtime</th>\n",
              "      <td>-0.035688</td>\n",
              "      <td>0.215092</td>\n",
              "      <td>0.260977</td>\n",
              "      <td>0.250298</td>\n",
              "      <td>1.000000</td>\n",
              "      <td>0.273771</td>\n",
              "      <td>0.351712</td>\n",
              "      <td>-0.112453</td>\n",
              "      <td>0.333976</td>\n",
              "      <td>0.280505</td>\n",
              "      <td>-0.109657</td>\n",
              "    </tr>\n",
              "    <tr>\n",
              "      <th>vote_count</th>\n",
              "      <td>0.111470</td>\n",
              "      <td>0.780096</td>\n",
              "      <td>0.556937</td>\n",
              "      <td>0.754567</td>\n",
              "      <td>0.273771</td>\n",
              "      <td>1.000000</td>\n",
              "      <td>0.387210</td>\n",
              "      <td>0.207191</td>\n",
              "      <td>0.497970</td>\n",
              "      <td>0.654688</td>\n",
              "      <td>0.211757</td>\n",
              "    </tr>\n",
              "    <tr>\n",
              "      <th>vote_average</th>\n",
              "      <td>-0.001269</td>\n",
              "      <td>0.317866</td>\n",
              "      <td>0.024169</td>\n",
              "      <td>0.227123</td>\n",
              "      <td>0.351712</td>\n",
              "      <td>0.387210</td>\n",
              "      <td>1.000000</td>\n",
              "      <td>-0.134246</td>\n",
              "      <td>0.036803</td>\n",
              "      <td>0.266844</td>\n",
              "      <td>-0.129722</td>\n",
              "    </tr>\n",
              "    <tr>\n",
              "      <th>release_year</th>\n",
              "      <td>0.489926</td>\n",
              "      <td>0.173278</td>\n",
              "      <td>0.268040</td>\n",
              "      <td>0.139140</td>\n",
              "      <td>-0.112453</td>\n",
              "      <td>0.207191</td>\n",
              "      <td>-0.134246</td>\n",
              "      <td>1.000000</td>\n",
              "      <td>0.075103</td>\n",
              "      <td>-0.103147</td>\n",
              "      <td>0.971068</td>\n",
              "    </tr>\n",
              "    <tr>\n",
              "      <th>budget_adj</th>\n",
              "      <td>-0.124035</td>\n",
              "      <td>0.399356</td>\n",
              "      <td>0.958520</td>\n",
              "      <td>0.657567</td>\n",
              "      <td>0.333976</td>\n",
              "      <td>0.497970</td>\n",
              "      <td>0.036803</td>\n",
              "      <td>0.075103</td>\n",
              "      <td>1.000000</td>\n",
              "      <td>0.570451</td>\n",
              "      <td>0.073200</td>\n",
              "    </tr>\n",
              "    <tr>\n",
              "      <th>revenue_adj</th>\n",
              "      <td>-0.088287</td>\n",
              "      <td>0.546959</td>\n",
              "      <td>0.533498</td>\n",
              "      <td>0.900882</td>\n",
              "      <td>0.280505</td>\n",
              "      <td>0.654688</td>\n",
              "      <td>0.266844</td>\n",
              "      <td>-0.103147</td>\n",
              "      <td>0.570451</td>\n",
              "      <td>1.000000</td>\n",
              "      <td>-0.097200</td>\n",
              "    </tr>\n",
              "    <tr>\n",
              "      <th>decade</th>\n",
              "      <td>0.496023</td>\n",
              "      <td>0.170058</td>\n",
              "      <td>0.261889</td>\n",
              "      <td>0.137820</td>\n",
              "      <td>-0.109657</td>\n",
              "      <td>0.211757</td>\n",
              "      <td>-0.129722</td>\n",
              "      <td>0.971068</td>\n",
              "      <td>0.073200</td>\n",
              "      <td>-0.097200</td>\n",
              "      <td>1.000000</td>\n",
              "    </tr>\n",
              "  </tbody>\n",
              "</table>\n",
              "</div>"
            ],
            "text/plain": [
              "                    id  popularity    budget   revenue   runtime  vote_count  \\\n",
              "id            1.000000    0.188878 -0.027449 -0.003206 -0.035688    0.111470   \n",
              "popularity    0.188878    1.000000  0.446987  0.615535  0.215092    0.780096   \n",
              "budget       -0.027449    0.446987  1.000000  0.688556  0.260977    0.556937   \n",
              "revenue      -0.003206    0.615535  0.688556  1.000000  0.250298    0.754567   \n",
              "runtime      -0.035688    0.215092  0.260977  0.250298  1.000000    0.273771   \n",
              "vote_count    0.111470    0.780096  0.556937  0.754567  0.273771    1.000000   \n",
              "vote_average -0.001269    0.317866  0.024169  0.227123  0.351712    0.387210   \n",
              "release_year  0.489926    0.173278  0.268040  0.139140 -0.112453    0.207191   \n",
              "budget_adj   -0.124035    0.399356  0.958520  0.657567  0.333976    0.497970   \n",
              "revenue_adj  -0.088287    0.546959  0.533498  0.900882  0.280505    0.654688   \n",
              "decade        0.496023    0.170058  0.261889  0.137820 -0.109657    0.211757   \n",
              "\n",
              "              vote_average  release_year  budget_adj  revenue_adj    decade  \n",
              "id               -0.001269      0.489926   -0.124035    -0.088287  0.496023  \n",
              "popularity        0.317866      0.173278    0.399356     0.546959  0.170058  \n",
              "budget            0.024169      0.268040    0.958520     0.533498  0.261889  \n",
              "revenue           0.227123      0.139140    0.657567     0.900882  0.137820  \n",
              "runtime           0.351712     -0.112453    0.333976     0.280505 -0.109657  \n",
              "vote_count        0.387210      0.207191    0.497970     0.654688  0.211757  \n",
              "vote_average      1.000000     -0.134246    0.036803     0.266844 -0.129722  \n",
              "release_year     -0.134246      1.000000    0.075103    -0.103147  0.971068  \n",
              "budget_adj        0.036803      0.075103    1.000000     0.570451  0.073200  \n",
              "revenue_adj       0.266844     -0.103147    0.570451     1.000000 -0.097200  \n",
              "decade           -0.129722      0.971068    0.073200    -0.097200  1.000000  "
            ]
          },
          "execution_count": 31,
          "metadata": {},
          "output_type": "execute_result"
        }
      ],
      "source": [
        "tmdb_df.corr()"
      ]
    },
    {
      "cell_type": "code",
      "execution_count": null,
      "id": "68903709-d12a-4a7c-ae09-d7072a3b9614",
      "metadata": {
        "id": "68903709-d12a-4a7c-ae09-d7072a3b9614",
        "outputId": "43571677-db36-4266-afe8-144ca0134098"
      },
      "outputs": [
        {
          "data": {
            "image/png": "[encoded data removed]",
            "text/plain": [
              "<Figure size 1296x1152 with 2 Axes>"
            ]
          },
          "metadata": {},
          "output_type": "display_data"
        }
      ],
      "source": [
        "columns = ['revenue','runtime']\n",
        "subplots('vote_average',columns,(2,1),tmdb_df)"
      ]
    },
    {
      "cell_type": "markdown",
      "id": "25547f57-be43-465f-ba76-5591fb99c51c",
      "metadata": {
        "id": "25547f57-be43-465f-ba76-5591fb99c51c"
      },
      "source": [
        "revenue plot: Most of the data points lie within the rating of 5 and 7.5.<br>\n",
        "Most high revenue movies have vote_average rating close to the mean(6.20)\n",
        "\n",
        "runtime plot. This plot shows that most movies have a duration between 150 minutes and 70 minutes.\n",
        "Movies with rating greater than 6.5 are also concentrated within this range.\n"
      ]
    },
    {
      "cell_type": "markdown",
      "id": "311592ec-daac-4b06-97e2-87460f66ed07",
      "metadata": {
        "id": "311592ec-daac-4b06-97e2-87460f66ed07"
      },
      "source": [
        "8. Which properties are associated with high revenue movies?"
      ]
    },
    {
      "cell_type": "code",
      "execution_count": null,
      "id": "7781aca4-a4f3-4bf2-8b80-3e332acdaf64",
      "metadata": {
        "id": "7781aca4-a4f3-4bf2-8b80-3e332acdaf64"
      },
      "outputs": [],
      "source": [
        "# find the 75% revenue of all movies\n",
        "high_revenue = np.percentile(tmdb_df.revenue,85)\n",
        "high_revenue_df = tmdb_df[tmdb_df.revenue >= high_revenue]"
      ]
    },
    {
      "cell_type": "code",
      "execution_count": null,
      "id": "0fe9b494-4b96-412b-a8e7-6747f114e7fa",
      "metadata": {
        "id": "0fe9b494-4b96-412b-a8e7-6747f114e7fa",
        "outputId": "5869668c-114a-47ad-e938-86bb60c6f4a1"
      },
      "outputs": [
        {
          "data": {
            "text/html": [
              "<div>\n",
              "<style scoped>\n",
              "    .dataframe tbody tr th:only-of-type {\n",
              "        vertical-align: middle;\n",
              "    }\n",
              "\n",
              "    .dataframe tbody tr th {\n",
              "        vertical-align: top;\n",
              "    }\n",
              "\n",
              "    .dataframe thead th {\n",
              "        text-align: right;\n",
              "    }\n",
              "</style>\n",
              "<table border=\"1\" class=\"dataframe\">\n",
              "  <thead>\n",
              "    <tr style=\"text-align: right;\">\n",
              "      <th></th>\n",
              "      <th>id</th>\n",
              "      <th>popularity</th>\n",
              "      <th>budget</th>\n",
              "      <th>revenue</th>\n",
              "      <th>runtime</th>\n",
              "      <th>vote_count</th>\n",
              "      <th>vote_average</th>\n",
              "      <th>release_year</th>\n",
              "      <th>budget_adj</th>\n",
              "      <th>revenue_adj</th>\n",
              "      <th>decade</th>\n",
              "    </tr>\n",
              "  </thead>\n",
              "  <tbody>\n",
              "    <tr>\n",
              "      <th>count</th>\n",
              "      <td>578.000000</td>\n",
              "      <td>578.000000</td>\n",
              "      <td>5.780000e+02</td>\n",
              "      <td>5.780000e+02</td>\n",
              "      <td>578.000000</td>\n",
              "      <td>578.000000</td>\n",
              "      <td>578.000000</td>\n",
              "      <td>578.000000</td>\n",
              "      <td>5.780000e+02</td>\n",
              "      <td>5.780000e+02</td>\n",
              "      <td>578.000000</td>\n",
              "    </tr>\n",
              "    <tr>\n",
              "      <th>mean</th>\n",
              "      <td>39710.628028</td>\n",
              "      <td>2.866689</td>\n",
              "      <td>9.623490e+07</td>\n",
              "      <td>4.271026e+08</td>\n",
              "      <td>118.103806</td>\n",
              "      <td>1800.607266</td>\n",
              "      <td>6.513495</td>\n",
              "      <td>2004.370242</td>\n",
              "      <td>1.050072e+08</td>\n",
              "      <td>5.022928e+08</td>\n",
              "      <td>2000.155709</td>\n",
              "    </tr>\n",
              "    <tr>\n",
              "      <th>std</th>\n",
              "      <td>64165.957305</td>\n",
              "      <td>2.772579</td>\n",
              "      <td>6.066755e+07</td>\n",
              "      <td>2.701685e+08</td>\n",
              "      <td>22.296714</td>\n",
              "      <td>1488.751887</td>\n",
              "      <td>0.702403</td>\n",
              "      <td>8.934071</td>\n",
              "      <td>5.899092e+07</td>\n",
              "      <td>3.292180e+08</td>\n",
              "      <td>9.735317</td>\n",
              "    </tr>\n",
              "    <tr>\n",
              "      <th>min</th>\n",
              "      <td>11.000000</td>\n",
              "      <td>0.131526</td>\n",
              "      <td>2.500000e+04</td>\n",
              "      <td>2.022929e+08</td>\n",
              "      <td>78.000000</td>\n",
              "      <td>48.000000</td>\n",
              "      <td>4.400000</td>\n",
              "      <td>1961.000000</td>\n",
              "      <td>3.272632e+04</td>\n",
              "      <td>1.871533e+08</td>\n",
              "      <td>1960.000000</td>\n",
              "    </tr>\n",
              "    <tr>\n",
              "      <th>25%</th>\n",
              "      <td>950.750000</td>\n",
              "      <td>1.411489</td>\n",
              "      <td>5.000000e+07</td>\n",
              "      <td>2.509091e+08</td>\n",
              "      <td>100.000000</td>\n",
              "      <td>727.250000</td>\n",
              "      <td>6.000000</td>\n",
              "      <td>1999.000000</td>\n",
              "      <td>6.078452e+07</td>\n",
              "      <td>2.951586e+08</td>\n",
              "      <td>1990.000000</td>\n",
              "    </tr>\n",
              "    <tr>\n",
              "      <th>50%</th>\n",
              "      <td>9619.500000</td>\n",
              "      <td>2.172710</td>\n",
              "      <td>8.500000e+07</td>\n",
              "      <td>3.351086e+08</td>\n",
              "      <td>116.000000</td>\n",
              "      <td>1360.500000</td>\n",
              "      <td>6.500000</td>\n",
              "      <td>2007.000000</td>\n",
              "      <td>9.688083e+07</td>\n",
              "      <td>4.028970e+08</td>\n",
              "      <td>2000.000000</td>\n",
              "    </tr>\n",
              "    <tr>\n",
              "      <th>75%</th>\n",
              "      <td>49535.750000</td>\n",
              "      <td>3.410232</td>\n",
              "      <td>1.365000e+08</td>\n",
              "      <td>4.947770e+08</td>\n",
              "      <td>131.000000</td>\n",
              "      <td>2483.750000</td>\n",
              "      <td>7.000000</td>\n",
              "      <td>2012.000000</td>\n",
              "      <td>1.465084e+08</td>\n",
              "      <td>6.078361e+08</td>\n",
              "      <td>2010.000000</td>\n",
              "    </tr>\n",
              "    <tr>\n",
              "      <th>max</th>\n",
              "      <td>417859.000000</td>\n",
              "      <td>32.985763</td>\n",
              "      <td>3.800000e+08</td>\n",
              "      <td>2.781506e+09</td>\n",
              "      <td>201.000000</td>\n",
              "      <td>9767.000000</td>\n",
              "      <td>8.300000</td>\n",
              "      <td>2015.000000</td>\n",
              "      <td>3.683713e+08</td>\n",
              "      <td>2.827124e+09</td>\n",
              "      <td>2010.000000</td>\n",
              "    </tr>\n",
              "  </tbody>\n",
              "</table>\n",
              "</div>"
            ],
            "text/plain": [
              "                  id  popularity        budget       revenue     runtime  \\\n",
              "count     578.000000  578.000000  5.780000e+02  5.780000e+02  578.000000   \n",
              "mean    39710.628028    2.866689  9.623490e+07  4.271026e+08  118.103806   \n",
              "std     64165.957305    2.772579  6.066755e+07  2.701685e+08   22.296714   \n",
              "min        11.000000    0.131526  2.500000e+04  2.022929e+08   78.000000   \n",
              "25%       950.750000    1.411489  5.000000e+07  2.509091e+08  100.000000   \n",
              "50%      9619.500000    2.172710  8.500000e+07  3.351086e+08  116.000000   \n",
              "75%     49535.750000    3.410232  1.365000e+08  4.947770e+08  131.000000   \n",
              "max    417859.000000   32.985763  3.800000e+08  2.781506e+09  201.000000   \n",
              "\n",
              "        vote_count  vote_average  release_year    budget_adj   revenue_adj  \\\n",
              "count   578.000000    578.000000    578.000000  5.780000e+02  5.780000e+02   \n",
              "mean   1800.607266      6.513495   2004.370242  1.050072e+08  5.022928e+08   \n",
              "std    1488.751887      0.702403      8.934071  5.899092e+07  3.292180e+08   \n",
              "min      48.000000      4.400000   1961.000000  3.272632e+04  1.871533e+08   \n",
              "25%     727.250000      6.000000   1999.000000  6.078452e+07  2.951586e+08   \n",
              "50%    1360.500000      6.500000   2007.000000  9.688083e+07  4.028970e+08   \n",
              "75%    2483.750000      7.000000   2012.000000  1.465084e+08  6.078361e+08   \n",
              "max    9767.000000      8.300000   2015.000000  3.683713e+08  2.827124e+09   \n",
              "\n",
              "            decade  \n",
              "count   578.000000  \n",
              "mean   2000.155709  \n",
              "std       9.735317  \n",
              "min    1960.000000  \n",
              "25%    1990.000000  \n",
              "50%    2000.000000  \n",
              "75%    2010.000000  \n",
              "max    2010.000000  "
            ]
          },
          "execution_count": 34,
          "metadata": {},
          "output_type": "execute_result"
        }
      ],
      "source": [
        "# gets summary statistics of high_revenue_df\n",
        "high_revenue_df.describe()"
      ]
    },
    {
      "cell_type": "code",
      "execution_count": null,
      "id": "2530091b-a708-4652-971e-66d86a528d75",
      "metadata": {
        "id": "2530091b-a708-4652-971e-66d86a528d75",
        "outputId": "c37f58d4-80c9-4c94-b982-2bb90e7bdba1"
      },
      "outputs": [
        {
          "data": {
            "image/png": "[encoded data removed]",
            "text/plain": [
              "<Figure size 1296x1152 with 2 Axes>"
            ]
          },
          "metadata": {},
          "output_type": "display_data"
        }
      ],
      "source": [
        "# lets observe the relationsip between high revenue movies with budget and runtime\n",
        "columns = ['budget','runtime']\n",
        "subplots('revenue',columns,(2,1),high_revenue_df)"
      ]
    },
    {
      "cell_type": "markdown",
      "id": "c242005b-20d0-40a4-8458-83314d2cd889",
      "metadata": {
        "id": "c242005b-20d0-40a4-8458-83314d2cd889"
      },
      "source": [
        "We can see that all extremely high revenue movies have a budget below 3.0e8 <br>\n",
        "The runtimes for high revenue movies are between 140 minutes and 120 minutes<br>\n",
        "Productions companies can leverage on this and make their movies between this time range"
      ]
    },
    {
      "cell_type": "markdown",
      "id": "0e09508d-acb4-473a-a90f-2dc0b11c5993",
      "metadata": {
        "id": "0e09508d-acb4-473a-a90f-2dc0b11c5993"
      },
      "source": [
        "9. Most popular genre in each decade"
      ]
    },
    {
      "cell_type": "code",
      "execution_count": null,
      "id": "2f6247c3-7aff-4a73-8c6c-aa4c7c41fe81",
      "metadata": {
        "id": "2f6247c3-7aff-4a73-8c6c-aa4c7c41fe81"
      },
      "outputs": [],
      "source": [
        "genre_df = tmdb_df.copy()\n",
        "genre_df['Genre'] = genre_df.genres.str.split('|')\n",
        "genre_df = genre_df.explode('Genre')"
      ]
    },
    {
      "cell_type": "code",
      "execution_count": null,
      "id": "49b58e7e-291e-4442-9aa9-421b3acfe3ab",
      "metadata": {
        "id": "49b58e7e-291e-4442-9aa9-421b3acfe3ab",
        "outputId": "668e21ca-b39d-4b07-d1e1-608f12155943"
      },
      "outputs": [
        {
          "data": {
            "text/plain": [
              "Text(0.5, 1.0, 'Most common genre ')"
            ]
          },
          "execution_count": 37,
          "metadata": {},
          "output_type": "execute_result"
        },
        {
          "data": {
            "image/png": "[encoded data removed]",
            "text/plain": [
              "<Figure size 432x288 with 1 Axes>"
            ]
          },
          "metadata": {},
          "output_type": "display_data"
        }
      ],
      "source": [
        "# most common genre\n",
        "genre_df.Genre.value_counts().plot(kind='bar')\n",
        "plt.title('Most common genre ')"
      ]
    },
    {
      "cell_type": "markdown",
      "id": "e1f13992",
      "metadata": {
        "id": "e1f13992"
      },
      "source": [
        "The Drama genre is the most common genre among the observations followed by comedy and thriller"
      ]
    },
    {
      "cell_type": "markdown",
      "id": "06082c04",
      "metadata": {
        "id": "06082c04"
      },
      "source": [
        "The data is grouped below by decade and genre and aggregated by the size(I.E the count of the genre. How many times does the genre in view occur in a decade) of the genre so that we can get the count of individual genres\n",
        "present in each decade"
      ]
    },
    {
      "cell_type": "code",
      "execution_count": null,
      "id": "1f9ec196-a5e2-4076-baea-6ce3aa2ed983",
      "metadata": {
        "id": "1f9ec196-a5e2-4076-baea-6ce3aa2ed983",
        "outputId": "6c8a1557-bfb9-4676-b72e-2dffdc4536d4"
      },
      "outputs": [
        {
          "data": {
            "text/html": [
              "<div>\n",
              "<style scoped>\n",
              "    .dataframe tbody tr th:only-of-type {\n",
              "        vertical-align: middle;\n",
              "    }\n",
              "\n",
              "    .dataframe tbody tr th {\n",
              "        vertical-align: top;\n",
              "    }\n",
              "\n",
              "    .dataframe thead th {\n",
              "        text-align: right;\n",
              "    }\n",
              "</style>\n",
              "<table border=\"1\" class=\"dataframe\">\n",
              "  <thead>\n",
              "    <tr style=\"text-align: right;\">\n",
              "      <th></th>\n",
              "      <th>decade</th>\n",
              "      <th>Genre</th>\n",
              "      <th>size</th>\n",
              "    </tr>\n",
              "  </thead>\n",
              "  <tbody>\n",
              "    <tr>\n",
              "      <th>0</th>\n",
              "      <td>1960</td>\n",
              "      <td>Action</td>\n",
              "      <td>19</td>\n",
              "    </tr>\n",
              "    <tr>\n",
              "      <th>1</th>\n",
              "      <td>1960</td>\n",
              "      <td>Adventure</td>\n",
              "      <td>23</td>\n",
              "    </tr>\n",
              "    <tr>\n",
              "      <th>2</th>\n",
              "      <td>1960</td>\n",
              "      <td>Animation</td>\n",
              "      <td>2</td>\n",
              "    </tr>\n",
              "    <tr>\n",
              "      <th>3</th>\n",
              "      <td>1960</td>\n",
              "      <td>Comedy</td>\n",
              "      <td>16</td>\n",
              "    </tr>\n",
              "    <tr>\n",
              "      <th>4</th>\n",
              "      <td>1960</td>\n",
              "      <td>Crime</td>\n",
              "      <td>9</td>\n",
              "    </tr>\n",
              "    <tr>\n",
              "      <th>...</th>\n",
              "      <td>...</td>\n",
              "      <td>...</td>\n",
              "      <td>...</td>\n",
              "    </tr>\n",
              "    <tr>\n",
              "      <th>106</th>\n",
              "      <td>2010</td>\n",
              "      <td>Romance</td>\n",
              "      <td>150</td>\n",
              "    </tr>\n",
              "    <tr>\n",
              "      <th>107</th>\n",
              "      <td>2010</td>\n",
              "      <td>Science Fiction</td>\n",
              "      <td>127</td>\n",
              "    </tr>\n",
              "    <tr>\n",
              "      <th>108</th>\n",
              "      <td>2010</td>\n",
              "      <td>Thriller</td>\n",
              "      <td>313</td>\n",
              "    </tr>\n",
              "    <tr>\n",
              "      <th>109</th>\n",
              "      <td>2010</td>\n",
              "      <td>War</td>\n",
              "      <td>26</td>\n",
              "    </tr>\n",
              "    <tr>\n",
              "      <th>110</th>\n",
              "      <td>2010</td>\n",
              "      <td>Western</td>\n",
              "      <td>11</td>\n",
              "    </tr>\n",
              "  </tbody>\n",
              "</table>\n",
              "<p>111 rows × 3 columns</p>\n",
              "</div>"
            ],
            "text/plain": [
              "     decade            Genre  size\n",
              "0      1960           Action    19\n",
              "1      1960        Adventure    23\n",
              "2      1960        Animation     2\n",
              "3      1960           Comedy    16\n",
              "4      1960            Crime     9\n",
              "..      ...              ...   ...\n",
              "106    2010          Romance   150\n",
              "107    2010  Science Fiction   127\n",
              "108    2010         Thriller   313\n",
              "109    2010              War    26\n",
              "110    2010          Western    11\n",
              "\n",
              "[111 rows x 3 columns]"
            ]
          },
          "execution_count": 38,
          "metadata": {},
          "output_type": "execute_result"
        }
      ],
      "source": [
        "grouped = genre_df.groupby(['decade','Genre'],as_index=False).Genre.agg('size')\n",
        "grouped"
      ]
    },
    {
      "cell_type": "markdown",
      "id": "e21997dd",
      "metadata": {
        "id": "e21997dd"
      },
      "source": [
        "We plot the most common three genre in each deacde using a bar plot as shown below"
      ]
    },
    {
      "cell_type": "code",
      "execution_count": null,
      "id": "11f86a9d-f107-4cda-b8ff-32ee542b7d1a",
      "metadata": {
        "id": "11f86a9d-f107-4cda-b8ff-32ee542b7d1a",
        "outputId": "76965536-194f-4834-9be2-56ab582e6ae6"
      },
      "outputs": [
        {
          "data": {
            "text/plain": [
              "<AxesSubplot:title={'center':'Most common genre(3) per decade'}, xlabel='Decades', ylabel='Count'>"
            ]
          },
          "execution_count": 39,
          "metadata": {},
          "output_type": "execute_result"
        },
        {
          "data": {
            "image/png": "[encoded data removed]",
            "text/plain": [
              "<Figure size 720x360 with 1 Axes>"
            ]
          },
          "metadata": {},
          "output_type": "display_data"
        }
      ],
      "source": [
        "df = None\n",
        "for decade in [1960,1970,1980,1990,2000,2010]:\n",
        "    table = grouped[grouped.decade == decade].sort_values('size',ascending=False).head(3).pivot(index='decade',columns='Genre',values='size')\n",
        "    if df is None:\n",
        "        df = table\n",
        "    else:\n",
        "        df = pd.concat([df,table]).fillna(0)\n",
        "title = 'Most common genre(3) per decade'\n",
        "df.plot(kind='bar',figsize=(10,5),title=title,xlabel='Decades',ylabel='Count',grid=True)"
      ]
    },
    {
      "cell_type": "raw",
      "id": "147b4151",
      "metadata": {
        "id": "147b4151"
      },
      "source": [
        "Drama is the only genre that is present in the top 3 genre of every decade. The genres represented in the top three are only five Action ,Adventure,Drama, Thriller and Comedy"
      ]
    },
    {
      "cell_type": "markdown",
      "id": "8b18d46d-cd58-44a6-a64d-003adc66cf06",
      "metadata": {
        "id": "8b18d46d-cd58-44a6-a64d-003adc66cf06"
      },
      "source": [
        "10. What genre is common among high revenue movies?\n",
        "This question would let us observe the genre of movies that generates the largest revenue"
      ]
    },
    {
      "cell_type": "code",
      "execution_count": null,
      "id": "82e209b2-5dd4-4749-9913-f864d10663fe",
      "metadata": {
        "id": "82e209b2-5dd4-4749-9913-f864d10663fe",
        "outputId": "c8ec18df-7c7d-4e2e-f338-22b439d1f33e"
      },
      "outputs": [
        {
          "data": {
            "text/plain": [
              "Text(0.5, 1.0, 'Genres of movies with the high revenues')"
            ]
          },
          "execution_count": 40,
          "metadata": {},
          "output_type": "execute_result"
        },
        {
          "data": {
            "image/png": "[encoded data removed]",
            "text/plain": [
              "<Figure size 432x288 with 1 Axes>"
            ]
          },
          "metadata": {},
          "output_type": "display_data"
        }
      ],
      "source": [
        "genre_df[genre_df.revenue >= high_revenue].Genre.value_counts().plot(kind='bar')\n",
        "plt.xlabel('Genre')\n",
        "plt.ylabel('Count')\n",
        "plt.title('Genres of movies with the high revenues')"
      ]
    },
    {
      "cell_type": "markdown",
      "id": "d44a3d50",
      "metadata": {
        "id": "d44a3d50"
      },
      "source": [
        "In the plot above we are looking at the genre that is mostly common among high revenue movies. We see that it is the Action genre that is the most common among high revenue movies. It is closely followed by the Adventure genre. \n",
        "\n",
        "This means that action and adventure genre genreate the most revenue."
      ]
    },
    {
      "cell_type": "markdown",
      "id": "ac1c1e71-2648-40df-8b57-487070df1914",
      "metadata": {
        "id": "ac1c1e71-2648-40df-8b57-487070df1914"
      },
      "source": [
        "<a id='summary'></a>\n",
        "## Summary\n",
        "\n"
      ]
    },
    {
      "cell_type": "markdown",
      "id": "71a7f35f-6920-44c5-bb4e-7ca7dd38cf4d",
      "metadata": {
        "id": "71a7f35f-6920-44c5-bb4e-7ca7dd38cf4d"
      },
      "source": [
        "- Number of movie released per year has been increasing steadily\n",
        "- Movies get released later in the year more often than not, With September being the peak month of releases. January and February experience the least number of movie releases\n",
        "- No movie in the [highest revenue](#hrev) and [highest budget](#hbud) were present in the [highest rated](#hrated) movies. After subsequent investigation, we could see that the rating of a movie is not dependent on the budget or revenue.\n",
        "- Most high revenue movies have a runtime between 120 and 140 minutes\n",
        "- Drama, action, comedy, thriller and adventure are the most common genre of all time\n",
        "- The genre and runtimie of a movie seem to be the best indicator for the revenue a movie will be able to generate.\n"
      ]
    },
    {
      "cell_type": "markdown",
      "id": "e5e42488",
      "metadata": {
        "id": "e5e42488"
      },
      "source": [
        "<a id='limit'></a>\n",
        "### Limitations\n",
        "- A lot of observations(rows) had to be dropped because of missing values,about 70% of the data was lost with less than half of the data remaining. This creates a problem because the samples left are not a good representation of movies produced in within the time frame of this analysis(1960-2015). We cannot acertain how the missing values will affect the analysis\n"
      ]
    }
  ],
  "metadata": {
    "kernelspec": {
      "display_name": "Python 3 (ipykernel)",
      "language": "python",
      "name": "python3"
    },
    "language_info": {
      "codemirror_mode": {
        "name": "ipython",
        "version": 3
      },
      "file_extension": ".py",
      "mimetype": "text/x-python",
      "name": "python",
      "nbconvert_exporter": "python",
      "pygments_lexer": "ipython3",
      "version": "3.9.12"
    },
    "colab": {
      "provenance": []
    }
  },
  "nbformat": 4,
  "nbformat_minor": 5
}